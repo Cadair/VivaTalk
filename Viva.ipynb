{
 "cells": [
  {
   "cell_type": "code",
   "execution_count": 1,
   "metadata": {
    "collapsed": false,
    "slideshow": {
     "slide_type": "skip"
    }
   },
   "outputs": [
    {
     "name": "stdout",
     "output_type": "stream",
     "text": [
      "Overwriting custom.css\n"
     ]
    }
   ],
   "source": [
    "%%file custom.css\n",
    "body {\n",
    "    font-size: 160%;\n",
    "    font-family: Lato, Ariel, sans-serif !important;\n",
    "}\n",
    "\n",
    "div.slides {\n",
    "    margin-top: -7%;\n",
    "}\n",
    "\n",
    ".left {\n",
    "    width: 49%;\n",
    "    float: left;\n",
    "}\n",
    "\n",
    ".right {\n",
    "    width: 49%;\n",
    "    float: right;\n",
    "}\n",
    "\n",
    ".centre {\n",
    "    text-align: center;\n",
    "}\n",
    "\n",
    "h2 {\n",
    "    text-align: center;\n",
    "}\n",
    "\n",
    "div.prompt {\n",
    "    display: none;\n",
    "}\n",
    "\n",
    "div.highlight {\n",
    "    font-size: 85%; /* This Seems to give an approximate 80char line at 1024 */\n",
    "}\n",
    "\n",
    "div.output_html {\n",
    "    font-size: 85%;\n",
    "}\n",
    "\n",
    "div.output_subarea {\n",
    "    max-width: 100%; !important\n",
    "}\n",
    "\n",
    "div.output_png {\n",
    "    text-align: center;\n",
    "}\n",
    "\n",
    "li {\n",
    "    padding-top: 1em !important;\n",
    "}\n",
    "\n",
    "ul.logos {\n",
    "    margin: 0px;\n",
    "    padding: 0px;\n",
    "    width: 100%;\n",
    "}\n",
    "\n",
    "ul.logos li {\n",
    "    list-style: none;\n",
    "    height:150px;\n",
    "\n",
    "}"
   ]
  },
  {
   "cell_type": "code",
   "execution_count": 6,
   "metadata": {
    "collapsed": false,
    "scrolled": false,
    "slideshow": {
     "slide_type": "skip"
    }
   },
   "outputs": [],
   "source": [
    "from mayavi import mlab\n",
    "\n",
    "import numpy as np\n",
    "\n",
    "import matplotlib\n",
    "import matplotlib.pyplot as plt\n",
    "import astropy.units as u\n",
    "import sunpy.map\n",
    "\n",
    "%matplotlib inline\n",
    "\n",
    "font_size = 20\n",
    "pgf_with_latex = {\n",
    "    \"font.size\": font_size,\n",
    "    \"axes.labelsize\": font_size,  # LaTeX default is 10pt font.\n",
    "    \"legend.fontsize\":font_size,\n",
    "    \"xtick.labelsize\": font_size,\n",
    "    \"ytick.labelsize\": font_size,\n",
    "    }\n",
    "\n",
    "matplotlib.rcParams.update(pgf_with_latex)"
   ]
  },
  {
   "cell_type": "markdown",
   "metadata": {
    "slideshow": {
     "slide_type": "slide"
    }
   },
   "source": [
    "# Simulations of Magnetohydrodynamic Waves Driven by Photospheric Motions\n",
    "\n",
    "Stuart J. Mumford\n",
    "\n",
    "Supervisor: Robertus Erdélyi\n",
    "\n",
    "Solar Physics & Space Plasma Research Centre (SP2RC), School of Mathematics and Statistics, The University of Sheffield\n",
    "\n",
    "<img style='float: right; width: 30%; margin-top: 90px;' src='images/TUOS_Logo_CMYK_Keyline.svg'/> \n",
    "<img style='float: right; width: 30%; margin-top: 60px; margin-right: 110px;' src='images/swat_logo.svg'/> \n",
    "<img style='float: left; width: 25%;' src='images/SP2RC_v6_plain.svg'/>"
   ]
  },
  {
   "cell_type": "markdown",
   "metadata": {
    "slideshow": {
     "slide_type": "slide"
    }
   },
   "source": [
    "# My Publications\n",
    "\n",
    "<b>Mumford, S. J.</b> and  Erdélyi, R. - Monthly Noticies of the Royal Astronomical Society - March 2015 - Volume 449 Issue 2. <br />\n",
    "<a href=\"http://labs.adsabs.harvard.edu/adsabs/abs/2015arXiv150101871M/\" target=\"blank_\"> Photospheric Logarithmic Velocity Spirals as MHD Wave Generation Mechanisms</a>\n",
    "\n",
    "\n",
    "<b>Mumford, S. J.</b>, Fedun, V., Erdélyi, R. - The Astrophysical Journal -  January 2015 - Volume 799, Issue 1 <br/>\n",
    "<a href=\"http://labs.adsabs.harvard.edu/adsabs/abs/2013arXiv1305.7415M/\"\n",
    "target=\"blank_\" class=\"papertitle\">Generation of Magnetohydrodynamic Waves in Low Solar\n",
    " Atmospheric Flux Tubes by Photospheric Motions</a>\n",
    " \n",
    "\n",
    "The SunPy Community, <b>Mumford, S. J.</b>, Christe, S., Pérez-Suárez, D., et. al - Computational Science and Discovery - January 2015 - Volume 8 Issue 1.<br/>\n",
    "<a href=\"http://labs.adsabs.harvard.edu/adsabs/abs/2015CS%26D....8a4009S/\" target=\"blank_\">SunPy: Python for Solar Physics</a>\n",
    "\n",
    "\n",
    "Freij N., Scullion E. M., Nelson C. J., <b>Mumford S. J.</b>, Wedemeyer S., and Erdélyi R. - The Astrophysical Journal - July 2014 - Volume 791, Issue 1, p.61 <br />\n",
    "<a href=\"http://labs.adsabs.harvard.edu/adsabs/abs/2014ApJ...791...61F/\" target=\"_blank\">The Detection of Upwardly Propagating Waves Channeling Energy from the Chromosphere to the Low Corona</a>\n",
    "\n",
    "\n",
    "Gent, F. A., Fedun, V., <b>Mumford, S. J.</b>, Erdélyi, R. - Monthly Notices of the Royal Astronomical Society - October 2013 - Volume 435, Issue 1, p.689-697 <br />\n",
    "<a href=\"http://labs.adsabs.harvard.edu/ui/abs/2013MNRAS.435..689G\" target=\"_blank\">Magnetohydrostatic equilibrium - I. Three-dimensional open magnetic flux tube in the stratified solar atmosphere</a>\n",
    "\n",
    "Nelson, C. J., Doyle, J. G., Erdélyi, R., Huang, Z., Madjarska, M. S., Mathioudakis, M., <b>Mumford, S. J.</b>, Reardon, K - Solar Physics - April 2013 - Volume 283, Issue 2, p.307-323. <br />\n",
    "<a href=\"http://labs.adsabs.harvard.edu/ui/abs/2013SoPh..283..307N\"\n",
    "target=\"_blank\" class=\"papertitle\">Statistical Analysis of Small Ellerman Bomb Events</a>\n"
   ]
  },
  {
   "cell_type": "markdown",
   "metadata": {
    "slideshow": {
     "slide_type": "slide"
    }
   },
   "source": [
    "# Problem - Coronal Heating\n",
    "<br />\n",
    "\n",
    "<div class='left'>\n",
    "\n",
    "<p>\n",
    "The solar atmosphere is too hot when compared to known energy input.\n",
    "\n",
    "What are the unknown heating mechanisms?\n",
    "</p>\n",
    "\n",
    "<ul>\n",
    "<li>\n",
    "Magnetic Reconnection\n",
    "</li>\n",
    "<li>\n",
    "Magnetohydrodynamic (MHD) Waves\n",
    "</li>\n",
    "</ul>\n",
    "</div>\n",
    "\n",
    "<div class='right'>\n",
    "\n",
    "<img width=100% src=\"./images/f_211_193_171pfss_2048.jpg\"/>\n",
    "\n",
    "</div>"
   ]
  },
  {
   "cell_type": "markdown",
   "metadata": {
    "slideshow": {
     "slide_type": "slide"
    }
   },
   "source": [
    "# MHD Waves\n",
    "\n",
    "\n",
    "- Waves generated in high-energy low atmosphere.\n",
    "- Wave propagate radially, along magnetic field lines.\n",
    "- Waves deposit energy higher in the atmosphere.\n",
    "\n",
    "The mechanism by which the wave energy is converted into atmospheric heating in the high atmosphere is unknown, but the properties of the wave behavior is dependant on the wave mode."
   ]
  },
  {
   "cell_type": "markdown",
   "metadata": {
    "slideshow": {
     "slide_type": "slide"
    }
   },
   "source": [
    "# Exciting Waves in the Photosphere"
   ]
  },
  {
   "cell_type": "code",
   "execution_count": 3,
   "metadata": {
    "collapsed": false,
    "slideshow": {
     "slide_type": "skip"
    }
   },
   "outputs": [],
   "source": [
    "x_range, y_range = [-300, 300]*u.arcsec, [-250, 250]*u.arcsec\n",
    "\n",
    "plt.ioff()\n",
    "fig = plt.figure(dpi=50, figsize=(11,8))\n",
    "mm = sunpy.map.Map('./gband_data/Gband_cospatial_cotemporal_00000.fits').submap(x_range, y_range)\n",
    "mm = mm.submap([-440,440]*u.arcsec, [-440,440]*u.arcsec)\n",
    "mm.plot_settings['cmap'] = 'gray'\n",
    "mm.plot_settings['title'] = ''\n",
    "im = mm.plot()\n",
    "fig.savefig('./images/gband-plot.png', transparent=True)"
   ]
  },
  {
   "cell_type": "markdown",
   "metadata": {
    "collapsed": true
   },
   "source": [
    "<div class='left'>\n",
    "\n",
    "<p>\n",
    "Dynamic photosphere with embedded magnetic field provides many potential ways of driving MHD waves.\n",
    "</p>\n",
    "<ul>\n",
    "<li>\n",
    "'Buffeting'\n",
    "</li>\n",
    "<li>\n",
    "Convective motions (vertically).\n",
    "</li>\n",
    "<li>\n",
    "Spiralling in downdrafts.\n",
    "</li>\n",
    "</ul>\n",
    "\n",
    "</div>\n",
    "\n",
    "<div class='right'>\n",
    "\n",
    "<img width=100% src=\"./images/gband-plot.png\"/>\n",
    "\n",
    "</div>"
   ]
  },
  {
   "cell_type": "markdown",
   "metadata": {
    "slideshow": {
     "slide_type": "slide"
    }
   },
   "source": [
    "# The Code\n",
    "\n",
    "The code used is the Sheffield Advanced Code (SAC) <cite data-cite=\"1226750/9AMFKPUF\"></cite>(Shelyag, Fedun, and Erdélyi 2008). \n",
    "\n",
    "SAC simulates purtabations on a static background, using a CD4 solver with hyper-diffusion and hyper-viscosity terms to stabalise the solution.\n",
    "\n",
    "This makes it well suited to solving wave pertubations on top of a highly stratified bacground such as the solar atmosphere."
   ]
  },
  {
   "cell_type": "markdown",
   "metadata": {
    "slideshow": {
     "slide_type": "slide"
    }
   },
   "source": [
    "# The Model\n",
    "\n",
    "To simulate wave excitation in the photosphere a numerical model of the solar atmosphere is needed.\n",
    "\n",
    "Hydrostatic background from the VAL 3C model <cite data-cite=\"1226750/45U23R6J\"></cite>(Vernazza, Avrett, and Loeser 1981):"
   ]
  },
  {
   "cell_type": "code",
   "execution_count": 9,
   "metadata": {
    "collapsed": false,
    "scrolled": false
   },
   "outputs": [
    {
     "data": {
      "image/png": "[encoded data removed]",
      "text/plain": [
       "<matplotlib.figure.Figure at 0x7f6dbfb3f810>"
      ]
     },
     "metadata": {},
     "output_type": "display_data"
    }
   ],
   "source": [
    "import pysac.mhs_atmosphere as atm\n",
    "\n",
    "#Read in the VAL3C model\n",
    "empirical_data = atm.hs_atmosphere.read_VAL3c_MTW(MTW_file=False)\n",
    "\n",
    "\n",
    "# Create a Z array at the interpolated resolution and interpolate.\n",
    "ZZ = u.Quantity(np.linspace(empirical_data['Z'][0], empirical_data['Z'][-1], 128), unit=empirical_data['Z'].unit)\n",
    "table = atm.hs_atmosphere.interpolate_atmosphere(empirical_data, ZZ, s=0)\n",
    "\n",
    "\n",
    "# Create a figure and make space for the axes.\n",
    "fig, ax = plt.subplots(gridspec_kw={'right':0.77, 'left':0.16, 'bottom':0.13}, figsize=(13,8))\n",
    "\n",
    "# Shortcut all the Mm conversion.\n",
    "Z = empirical_data['Z'].to(u.Mm)\n",
    "\n",
    "lrho, = ax.plot(Z, empirical_data['rho'].quantity.si, 'x', color='blue')\n",
    "lrho_i, = ax.plot(ZZ.to(u.Mm), table['rho'].quantity.si, color='blue')\n",
    "\n",
    "ax2 = ax.twinx()\n",
    "lp, = ax2.plot(Z, empirical_data['p'].to(u.Pa), 'x', color='green')\n",
    "lp_i, = ax2.plot(ZZ.to(u.Mm), table['p'].to(u.Pa), color='green')\n",
    "\n",
    "\n",
    "ax3 = ax.twinx()\n",
    "ax3.spines[\"right\"].set_position((\"axes\", 1.2))\n",
    "lt, = ax3.plot(Z, empirical_data['T'].to(u.K), 'x', color='red')\n",
    "lt_i, = ax3.plot(ZZ.to(u.Mm), table['T'].to(u.K), color='red')\n",
    "\n",
    "\n",
    "# Set primary axes properties and labels\n",
    "ax.semilogy()\n",
    "ax.set_ylabel(r\"Density [{}]\".format(lrho._yorig.unit._repr_latex_()))\n",
    "ax.set_xlabel(r\"Height [{}]\".format(lrho._xorig.unit._repr_latex_()))\n",
    "ax.set_xlim(Z[0].value-0.1, Z[-1].value+0.1)\n",
    "\n",
    "\n",
    "# Pressure Axis\n",
    "ax2.semilogy()\n",
    "ax2.set_ylabel(r\"Pressure [{}]\".format(lp._yorig.unit._repr_latex_()))\n",
    "\n",
    "\n",
    "# Temp axis\n",
    "ax3.set_ylabel(r\"Temperature [{}]\".format(lt._yorig.unit._repr_latex_()))\n",
    "\n",
    "ax.set_xlim([-0.02,1.62])\n",
    "ax3.set_ylim([3500,7500])\n",
    "# Set the colours for the ticks and the labels.\n",
    "ax.tick_params(axis='y', colors=lrho.get_color())\n",
    "ax2.tick_params(axis='y', colors=lp.get_color())\n",
    "ax3.tick_params(axis='y', colors=lt.get_color())\n",
    "\n",
    "ax.yaxis.label.set_color(lrho.get_color())\n",
    "ax2.yaxis.label.set_color(lp.get_color())\n",
    "ax3.yaxis.label.set_color(lt.get_color())"
   ]
  },
  {
   "cell_type": "markdown",
   "metadata": {
    "slideshow": {
     "slide_type": "subslide"
    }
   },
   "source": [
    "# Magnetic Flux Tube\n",
    "\n",
    "The magnetic field model follows <cite data-cite=\"1226750/4CKVZT29\"></cite>(Gent et al. 2013) and is constructed as a self-similar, cylindrically symmetric, expanding field."
   ]
  },
  {
   "cell_type": "markdown",
   "metadata": {
    "slideshow": {
     "slide_type": "slide"
    }
   },
   "source": [
    "# Identifying Waves from Broadband Drivers\n",
    "\n",
    "Photospheric drivers excite multiple wave modes simulatenously.\n",
    "\n",
    "How to quantify the relative strengths of the different modes from different drivers."
   ]
  },
  {
   "cell_type": "markdown",
   "metadata": {
    "slideshow": {
     "slide_type": "slide"
    }
   },
   "source": [
    "# Bibliography\n"
   ]
  },
  {
   "cell_type": "markdown",
   "metadata": {
    "collapsed": true,
    "slideshow": {
     "slide_type": "-"
    }
   },
   "source": [
    "<div class=\"cite2c-biblio\"></div>"
   ]
  }
 ],
 "metadata": {
  "celltoolbar": "Slideshow",
  "cite2c": {
   "citations": {
    "1226750/45U23R6J": {
     "DOI": "10.1086/190731",
     "URL": "http://ucp.uchicago.edu/cgi-bin/resolve?id=doi:10.1086/190731",
     "accessed": {
      "day": "8",
      "month": "8",
      "year": "2013"
     },
     "author": [
      {
       "family": "Vernazza",
       "given": "J. E."
      },
      {
       "family": "Avrett",
       "given": "E. H."
      },
      {
       "family": "Loeser",
       "given": "R."
      }
     ],
     "container-title": "The Astrophysical Journal Supplement Series",
     "id": "1226750/45U23R6J",
     "issued": {
      "month": "4",
      "year": "1981"
     },
     "note": "bibtex: vernazza1981",
     "page": "635",
     "page-first": "635",
     "title": "Structure of the solar chromosphere. III - Models of the EUV brightness components of the quiet-sun",
     "type": "article-journal",
     "volume": "45"
    },
    "1226750/4CKVZT29": {
     "DOI": "10.1093/mnras/stt1328",
     "URL": "http://mnras.oxfordjournals.org/cgi/doi/10.1093/mnras/stt1328",
     "accessed": {
      "day": "8",
      "month": "4",
      "year": "2014"
     },
     "author": [
      {
       "family": "Gent",
       "given": "F. A."
      },
      {
       "family": "Fedun",
       "given": "V."
      },
      {
       "family": "Mumford",
       "given": "S. J."
      },
      {
       "family": "Erdelyi",
       "given": "R."
      }
     ],
     "container-title": "Monthly Notices of the Royal Astronomical Society",
     "id": "1226750/4CKVZT29",
     "issue": "1",
     "issued": {
      "day": "11",
      "month": "10",
      "year": "2013"
     },
     "language": "en",
     "note": "bibtex: gent2013",
     "page": "689-697",
     "page-first": "689",
     "title": "Magnetohydrostatic equilibrium - I. Three-dimensional open magnetic flux tube in the stratified solar atmosphere",
     "type": "article-journal",
     "volume": "435"
    },
    "1226750/9AMFKPUF": {
     "DOI": "10.1051/0004-6361:200809800",
     "URL": "http://www.aanda.org/10.1051/0004-6361:200809800",
     "accessed": {
      "day": "7",
      "month": "8",
      "year": "2013"
     },
     "author": [
      {
       "family": "Shelyag",
       "given": "S."
      },
      {
       "family": "Fedun",
       "given": "V."
      },
      {
       "family": "Erdélyi",
       "given": "R."
      }
     ],
     "container-title": "Astronomy and Astrophysics",
     "id": "1226750/9AMFKPUF",
     "issue": "2",
     "issued": {
      "month": "8",
      "year": "2008"
     },
     "note": "bibtex: shelyag2008",
     "page": "655-662",
     "page-first": "655",
     "title": "Magnetohydrodynamic code for gravitationally-stratified media",
     "type": "article-journal",
     "volume": "486"
    },
    "1226750/GAAKCPXV": {
     "DOI": "10.1093/mnras/stv365",
     "URL": "http://mnras.oxfordjournals.org/cgi/doi/10.1093/mnras/stv365",
     "accessed": {
      "raw": "2015-06-11"
     },
     "author": [
      {
       "family": "Mumford",
       "given": "S. J."
      },
      {
       "family": "Erdélyi",
       "given": "R."
      }
     ],
     "container-title": "Monthly Notices of the Royal Astronomical Society",
     "issue": "2",
     "issued": {
      "raw": "2015-03-25"
     },
     "language": "en",
     "note": "bibtex: mumford2015a",
     "page": "1679-1685",
     "title": "Photospheric logarithmic velocity spirals as MHD wave generation mechanisms",
     "type": "article-journal",
     "volume": "449"
    },
    "undefined": {
     "DOI": "10.1051/0004-6361:200809800",
     "URL": "http://www.aanda.org/10.1051/0004-6361:200809800",
     "accessed": {
      "day": "7",
      "month": "8",
      "year": "2013"
     },
     "author": [
      {
       "family": "Shelyag",
       "given": "S."
      },
      {
       "family": "Fedun",
       "given": "V."
      },
      {
       "family": "Erdélyi",
       "given": "R."
      }
     ],
     "container-title": "Astronomy and Astrophysics",
     "id": "1226750/9AMFKPUF",
     "issue": "2",
     "issued": {
      "month": "8",
      "year": "2008"
     },
     "note": "bibtex: shelyag2008",
     "page": "655-662",
     "page-first": "655",
     "title": "Magnetohydrodynamic code for gravitationally-stratified media",
     "type": "article-journal",
     "volume": "486"
    }
   }
  },
  "kernelspec": {
   "display_name": "Environment (thesis)",
   "language": "",
   "name": "thesis"
  },
  "language_info": {
   "codemirror_mode": {
    "name": "ipython",
    "version": 2
   },
   "file_extension": ".py",
   "mimetype": "text/x-python",
   "name": "python",
   "nbconvert_exporter": "python",
   "pygments_lexer": "ipython2",
   "version": "2.7.10"
  }
 },
 "nbformat": 4,
 "nbformat_minor": 0
}
