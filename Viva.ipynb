{
 "cells": [
  {
   "cell_type": "code",
   "execution_count": null,
   "metadata": {
    "collapsed": false,
    "slideshow": {
     "slide_type": "skip"
    }
   },
   "outputs": [],
   "source": [
    "%%file output/custom.css\n",
    "body {\n",
    "    font-size: 160%;\n",
    "    font-family: Lato, Ariel, sans-serif !important;\n",
    "}\n",
    "\n",
    "div.slides {\n",
    "    margin-top: -7%;\n",
    "}\n",
    "\n",
    ".left {\n",
    "    width: 49%;\n",
    "    float: left;\n",
    "}\n",
    "\n",
    ".right {\n",
    "    width: 49%;\n",
    "    float: right;\n",
    "}\n",
    "\n",
    ".centre {\n",
    "    text-align: center;\n",
    "}\n",
    "\n",
    "h1 {\n",
    "    text-align: center;\n",
    "}\n",
    "\n",
    "h2 {\n",
    "    text-align: center;\n",
    "}\n",
    "\n",
    "div.prompt {\n",
    "    display: none;\n",
    "}\n",
    "\n",
    "div.highlight {\n",
    "    font-size: 85%; /* This Seems to give an approximate 80char line at 1024 */\n",
    "}\n",
    "\n",
    "div.output_html {\n",
    "    font-size: 85%;\n",
    "}\n",
    "\n",
    "div.output_subarea {\n",
    "    max-width: 100% !important;\n",
    "}\n",
    "\n",
    "div.output_png {\n",
    "    text-align: center;\n",
    "}\n",
    "\n",
    "li {\n",
    "    padding-top: 1em !important;\n",
    "}\n",
    "\n",
    "ul.logos {\n",
    "    margin: 0px;\n",
    "    padding: 0px;\n",
    "    width: 100%;\n",
    "}\n",
    "\n",
    "ul.logos li {\n",
    "    list-style: none;\n",
    "    height:150px;\n",
    "\n",
    "}\n",
    "\n",
    ".output_stderr {\n",
    "    display: none;\n",
    "}\n",
    "\n",
    "div.output_area .rendered_html img, div.output_area .rendered_html table {\n",
    "    margin-left: auto;\n",
    "    margin-right: auto;\n",
    "}\n",
    "\n",
    ".data-table {\n",
    "    border-collapse: collapse;\n",
    "}\n",
    "\n",
    ".border-bottom {\n",
    "    border-bottom: 1px solid #000;\n",
    "}\n",
    "\n",
    ".align-center {\n",
    "    text-align: center;\n",
    "}\n",
    "\n",
    ".reveal i {\n",
    "    font-size: inherit !important;\n",
    "    font-style: italic !important;\n",
    "}\n",
    "\n",
    ".cite2c-dialog .twitter-typeahead {\n",
    "    margin: 8px;\n",
    "    width: 90%;\n",
    "}\n",
    "\n",
    ".cite2c-dialog .tt-input {\n",
    "    width: 100%;\n",
    "}\n",
    "\n",
    ".cite2c-dialog .tt-dropdown-menu {\n",
    "    background-color: #fff;\n",
    "    border: 1px solid #ccc;\n",
    "    border-radius: 4px;\n",
    "}\n",
    "\n",
    ".cite2c-dialog .tt-suggestion {\n",
    "    padding: 4px;\n",
    "}\n",
    ".cite2c-dialog .tt-suggestion.tt-cursor {\n",
    "    background-color: #eee;\n",
    "}\n",
    "\n",
    ".csl-entry {\n",
    "    padding: 0.4em 0 !important;\n",
    "}\n",
    "\n",
    ".rendered_html blockquote {\n",
    "    font-family: serif;\n",
    "    font-size: 150%;\n",
    "    line-height: 130%;\n",
    "    margin: 5px auto;\n",
    "    width: 90%;\n",
    "    text-align: center;\n",
    "}"
   ]
  },
  {
   "cell_type": "code",
   "execution_count": null,
   "metadata": {
    "collapsed": false,
    "scrolled": false,
    "slideshow": {
     "slide_type": "skip"
    }
   },
   "outputs": [],
   "source": [
    "import sys\n",
    "\n",
    "sys.path.append('./python/')\n",
    "\n",
    "from mayavi import mlab\n",
    "from mayavi.tools.sources import vector_field, scalar_field\n",
    "mlab.options.offscreen = True\n",
    "\n",
    "import numpy as np\n",
    "\n",
    "import matplotlib\n",
    "import matplotlib.pyplot as plt\n",
    "from mpl_toolkits.axes_grid1 import make_axes_locatable\n",
    "import astropy.units as u\n",
    "import sunpy.map\n",
    "\n",
    "import yt\n",
    "import pysac.yt\n",
    "\n",
    "%matplotlib inline\n",
    "\n",
    "font_size = 20\n",
    "pgf_with_latex = {\n",
    "    \"font.size\": font_size,\n",
    "    \"axes.labelsize\": font_size,  # LaTeX default is 10pt font.\n",
    "    \"legend.fontsize\":font_size,\n",
    "    \"xtick.labelsize\": font_size,\n",
    "    \"ytick.labelsize\": font_size,\n",
    "    \"savefig.transparent\": True\n",
    "    }\n",
    "\n",
    "matplotlib.rcParams.update(pgf_with_latex)"
   ]
  },
  {
   "cell_type": "markdown",
   "metadata": {
    "slideshow": {
     "slide_type": "slide"
    }
   },
   "source": [
    "# Simulations of Magnetohydrodynamic Waves Driven by Photospheric Motions\n",
    "\n",
    "## Stuart J. Mumford\n",
    "\n",
    "Supervisor: Robertus Erdélyi\n",
    "\n",
    "Solar Physics & Space Plasma Research Centre (SP2RC), School of Mathematics and Statistics, The University of Sheffield\n",
    "\n",
    "<img style='float: left; width: 30%; margin-top: 90px;' src='images/TUOS_Logo_CMYK_Keyline.svg'/> \n",
    "<img style='float: right; width: 30%; margin-top: 60px;' src='images/swat_logo.svg'/> \n",
    "<img style='float: right; width: 20%; margin-right: 10%;' src='images/SP2RC_v6_plain.svg'/>"
   ]
  },
  {
   "cell_type": "markdown",
   "metadata": {
    "slideshow": {
     "slide_type": "slide"
    }
   },
   "source": [
    "# Context: Atmospheric Heating\n",
    "<br />\n",
    "\n",
    "<div class='left'>\n",
    "<p style=\"padding-top:15%;\">\n",
    "How is the solar atmosphere heated?\n",
    "</p>\n",
    "<p style=\"padding-top:15%;\">\n",
    "How is the energy transported from the top of the convection zone / photosphere upwards?\n",
    "</p>\n",
    "<p style=\"padding-top:15%;\">\n",
    "How is the Energy Deposited?\n",
    "</p>\n",
    "</div>\n",
    "\n",
    "<div class='right'>\n",
    "\n",
    "<img width=100% src=\"./images/f_211_193_171pfss_2048.jpg\"/>\n",
    "\n",
    "</div>"
   ]
  },
  {
   "cell_type": "markdown",
   "metadata": {
    "slideshow": {
     "slide_type": "slide"
    }
   },
   "source": [
    "# Problem: MHD Wave Generation\n",
    "<br />\n",
    "<div class=\"left\">\n",
    "<blockquote>\n",
    "\"The challenge remains to understand how, and where, these waves are <b>generated</b> and dissipated in the solar atmosphere, [...]\" - <cite data-cite=\"1226750/77CNNZUU\"></cite> (McIntosh et al. 2011)\n",
    "</blockquote>\n",
    "</div>"
   ]
  },
  {
   "cell_type": "markdown",
   "metadata": {
    "slideshow": {
     "slide_type": "slide"
    }
   },
   "source": [
    "# The Photosphere as a Source for MHD Waves"
   ]
  },
  {
   "cell_type": "code",
   "execution_count": null,
   "metadata": {
    "collapsed": false,
    "slideshow": {
     "slide_type": "skip"
    }
   },
   "outputs": [],
   "source": [
    "x_range, y_range = [-300, 300]*u.arcsec, [-250, 250]*u.arcsec\n",
    "\n",
    "plt.ioff()\n",
    "fig = plt.figure(dpi=50, figsize=(11,8))\n",
    "mm = sunpy.map.Map('/home/stuart/VivaData/gband_data/Gband_cospatial_cotemporal_00000.fits').submap(x_range, y_range)\n",
    "mm = mm.submap([-440,440]*u.arcsec, [-440,440]*u.arcsec)\n",
    "mm.plot_settings['cmap'] = 'gray'\n",
    "mm.plot_settings['title'] = ''\n",
    "im = mm.plot()\n",
    "fig.savefig('./images/gband-plot.png', transparent=True)"
   ]
  },
  {
   "cell_type": "markdown",
   "metadata": {
    "collapsed": true
   },
   "source": [
    "<div class='left'>\n",
    "\n",
    "<p>\n",
    "The dynamic photosphere with embedded magnetic field provides many potential ways of driving MHD waves.\n",
    "</p>\n",
    "<ul>\n",
    "<li>\n",
    "'Buffeting' from convective motions\n",
    "</li>\n",
    "<li>\n",
    "Global oscillations\n",
    "</li>\n",
    "<li>\n",
    "Spiralling in downdrafts\n",
    "</li>\n",
    "</ul>\n",
    "\n",
    "</div>\n",
    "\n",
    "<div class='right'>\n",
    "\n",
    "<video style=\"margin: 0 auto; width: 90%;\" data-autoplay loop>\n",
    "  <source src=\"./images/whirly_bright_point.ogv\" type=\"video/ogg\">\n",
    "Your browser does not support the video tag.\n",
    "</video>\n",
    "<cite data-cite=\"1226750/UCDDSIK9\"></cite>(Bonet et al. 2008)\n",
    "\n",
    "\n",
    "</div>"
   ]
  },
  {
   "cell_type": "markdown",
   "metadata": {
    "slideshow": {
     "slide_type": "slide"
    }
   },
   "source": [
    "# Numerical Simulations of the lower solar atmosphere\n",
    "\n",
    "## The Code\n",
    "\n",
    "The code used is the Sheffield Advanced Code (SAC) <cite data-cite=\"1226750/9AMFKPUF\"></cite>(Shelyag, Fedun, and Erdélyi 2008). \n",
    "\n",
    "SAC simulates perturbations on a static background, using a CD4 solver with hyper-diffusion and hyper-viscosity terms to stabalise the solution.\n",
    "\n",
    "This makes it well-suited to solving wave perturbations on top of a highly stratified background such as the solar atmosphere."
   ]
  },
  {
   "cell_type": "markdown",
   "metadata": {
    "slideshow": {
     "slide_type": "slide"
    }
   },
   "source": [
    "## The Model\n",
    "\n",
    "To simulate wave excitation in the photosphere a numerical model of the solar atmosphere is needed.\n",
    "\n",
    "Hydrostatic background from the VAL III model C <cite data-cite=\"1226750/45U23R6J\"></cite>(Vernazza, Avrett, and Loeser 1981):"
   ]
  },
  {
   "cell_type": "code",
   "execution_count": null,
   "metadata": {
    "collapsed": false,
    "scrolled": false
   },
   "outputs": [],
   "source": [
    "import pysac.mhs_atmosphere as atm\n",
    "\n",
    "#Read in the VAL3C model\n",
    "empirical_data = atm.hs_atmosphere.read_VAL3c_MTW(MTW_file=False)\n",
    "\n",
    "\n",
    "# Create a Z array at the interpolated resolution and interpolate.\n",
    "ZZ = u.Quantity(np.linspace(empirical_data['Z'][0], empirical_data['Z'][-1], 128), unit=empirical_data['Z'].unit)\n",
    "table = atm.hs_atmosphere.interpolate_atmosphere(empirical_data, ZZ, s=0)\n",
    "\n",
    "\n",
    "# Create a figure and make space for the axes.\n",
    "fig, ax = plt.subplots(gridspec_kw={'right':0.77, 'left':0.16, 'bottom':0.13}, figsize=(13,8))\n",
    "\n",
    "# Shortcut all the Mm conversion.\n",
    "Z = empirical_data['Z'].to(u.Mm)\n",
    "\n",
    "lrho, = ax.plot(Z, empirical_data['rho'].quantity.si, 'x', color='blue')\n",
    "lrho_i, = ax.plot(ZZ.to(u.Mm), table['rho'].quantity.si, color='blue')\n",
    "\n",
    "ax2 = ax.twinx()\n",
    "lp, = ax2.plot(Z, empirical_data['p'].to(u.Pa), 'x', color='green')\n",
    "lp_i, = ax2.plot(ZZ.to(u.Mm), table['p'].to(u.Pa), color='green')\n",
    "\n",
    "\n",
    "ax3 = ax.twinx()\n",
    "ax3.spines[\"right\"].set_position((\"axes\", 1.2))\n",
    "lt, = ax3.plot(Z, empirical_data['T'].to(u.K), 'x', color='red')\n",
    "lt_i, = ax3.plot(ZZ.to(u.Mm), table['T'].to(u.K), color='red')\n",
    "\n",
    "\n",
    "# Set primary axes properties and labels\n",
    "ax.semilogy()\n",
    "ax.set_ylabel(r\"Density [{}]\".format(lrho._yorig.unit._repr_latex_()))\n",
    "ax.set_xlabel(r\"Height [{}]\".format(lrho._xorig.unit._repr_latex_()))\n",
    "ax.set_xlim(Z[0].value-0.1, Z[-1].value+0.1)\n",
    "\n",
    "\n",
    "# Pressure Axis\n",
    "ax2.semilogy()\n",
    "ax2.set_ylabel(r\"Pressure [{}]\".format(lp._yorig.unit._repr_latex_()))\n",
    "\n",
    "\n",
    "# Temp axis\n",
    "ax3.set_ylabel(r\"Temperature [{}]\".format(lt._yorig.unit._repr_latex_()))\n",
    "\n",
    "ax.set_xlim([-0.02,1.62])\n",
    "ax3.set_ylim([3500,7500])\n",
    "# Set the colours for the ticks and the labels.\n",
    "ax.tick_params(axis='y', colors=lrho.get_color())\n",
    "ax2.tick_params(axis='y', colors=lp.get_color())\n",
    "ax3.tick_params(axis='y', colors=lt.get_color())\n",
    "\n",
    "ax.yaxis.label.set_color(lrho.get_color())\n",
    "ax2.yaxis.label.set_color(lp.get_color())\n",
    "ax3.yaxis.label.set_color(lt.get_color())\n",
    "fig"
   ]
  },
  {
   "cell_type": "code",
   "execution_count": null,
   "metadata": {
    "collapsed": false,
    "slideshow": {
     "slide_type": "skip"
    }
   },
   "outputs": [],
   "source": [
    "from pysac.mhs_atmosphere.parameters.model_pars import mfe_setup as model_pars\n",
    "import pysac.mhs_atmosphere as atm\n",
    "\n",
    "# Cheeky Reset to Photosphere\n",
    "model_pars['xyz'][4] = 0*u.Mm\n",
    "#==============================================================================\n",
    "# Build the MFE flux tube model using pysac\n",
    "#==============================================================================\n",
    "# model setup\n",
    "scales, physical_constants = atm.units_const.get_parameters()\n",
    "option_pars = atm.options.set_options(model_pars, False, l_gdf=True)\n",
    "coords = atm.model_pars.get_coords(model_pars['Nxyz'], u.Quantity(model_pars['xyz']))\n",
    "\n",
    "#interpolate the hs 1D profiles from empirical data source[s]\n",
    "empirical_data = atm.hs_atmosphere.read_VAL3c_MTW(mu=physical_constants['mu'])\n",
    "table = atm.hs_atmosphere.interpolate_atmosphere(empirical_data, coords['Zext'])\n",
    "table['rho'] += table['rho'].min()*3.6\n",
    "\n",
    "# calculate 1d hydrostatic balance from empirical density profile\n",
    "# the hs pressure balance is enhanced by pressure equivalent to the\n",
    "# residual mean coronal magnetic pressure contribution once the magnetic\n",
    "# field has been applied\n",
    "magp_meanz = np.ones(len(coords['Z'])) * u.one\n",
    "magp_meanz *= model_pars['pBplus']**2/(2*physical_constants['mu0'])\n",
    "\n",
    "# Make the vertical profile 3D\n",
    "pressure_z, rho_z, Rgas_z = atm.hs_atmosphere.vertical_profile(coords['Z'], table, magp_meanz,\n",
    "                                                               physical_constants, coords['dz'])\n",
    "\n",
    "# Generate 3D coordinate arrays\n",
    "x, y, z = u.Quantity(np.mgrid[coords['xmin']:coords['xmax']:1j*model_pars['Nxyz'][0],\n",
    "                              coords['ymin']:coords['ymax']:1j*model_pars['Nxyz'][1],\n",
    "                              coords['zmin']:coords['zmax']:1j*model_pars['Nxyz'][2]], unit=coords['xmin'].unit)\n",
    "\n",
    "# Get default MFE flux tube parameters out of pysac\n",
    "xi, yi, Si = atm.flux_tubes.get_flux_tubes(model_pars, coords, option_pars)\n",
    "\n",
    "# Generate the 3D magnetic field\n",
    "allmag = atm.flux_tubes.construct_magnetic_field(x, y, z, xi[0], yi[0], Si[0], model_pars, option_pars,\n",
    "                                                 physical_constants, scales)\n",
    "pressure_m, rho_m, Bx, By ,Bz, Btensx, Btensy = allmag\n",
    "\n",
    "# local proc 3D mhs arrays\n",
    "pressure, rho = atm.mhs_3D.mhs_3D_profile(z, pressure_z, rho_z, pressure_m, rho_m)\n",
    "magp = (Bx**2 + By**2 + Bz**2) / (2.*physical_constants['mu0'])\n",
    "energy = atm.mhs_3D.get_internal_energy(pressure, magp, physical_constants)\n",
    "\n",
    "#### YT STUFF ####\n",
    "\n",
    "magnetic_field_x = lambda field, data: data['mag_field_x']\n",
    "yt.add_field((\"gas\",\"magnetic_field_x\"), function=magnetic_field_x, units=yt.units.T.units)\n",
    "magnetic_field_y = lambda field, data: data['mag_field_y']\n",
    "yt.add_field((\"gas\",\"magnetic_field_y\"), function=magnetic_field_y, units=yt.units.T.units)\n",
    "magnetic_field_z = lambda field, data: data['mag_field_z']\n",
    "yt.add_field((\"gas\",\"magnetic_field_z\"), function=magnetic_field_z, units=yt.units.T.units)\n",
    "\n",
    "# Add derived Fields\n",
    "def magnetic_field_strength(field, data):\n",
    "    return np.sqrt(data[\"mag_field_x\"]**2 + data[\"mag_field_y\"]**2 + data[\"mag_field_z\"]**2)\n",
    "yt.add_field((\"gas\",\"magnetic_field_strength\"), function=magnetic_field_strength, units=yt.units.T.units)\n",
    "\n",
    "#def alfven_speed(field, data):\n",
    "#    return np.sqrt(2.*data['magnetic_pressure']/data['density'])\n",
    "#yt.add_field((\"gas\",\"alfven_speed\"), function=alfven_speed, units=(yt.units.m/yt.units.s).units)\n",
    "\n",
    "bbox = u.Quantity([u.Quantity([coords['xmin'], coords['xmax']]),\n",
    "                   u.Quantity([coords['ymin'], coords['ymax']]),\n",
    "                   u.Quantity([coords['zmin'], coords['zmax']])]).to(u.m).value\n",
    "\n",
    "# Now build a yt DataSet with the generated data:\n",
    "data = {'mag_field_x':yt.YTQuantity.from_astropy(Bx.decompose()),\n",
    "        'mag_field_y':yt.YTQuantity.from_astropy(By.decompose()),\n",
    "        'mag_field_z':yt.YTQuantity.from_astropy(Bz.decompose()),\n",
    "        'pressure': yt.YTQuantity.from_astropy(pressure.decompose()),\n",
    "        'magnetic_pressure': yt.YTQuantity.from_astropy(magp.decompose()),\n",
    "        'density': yt.YTQuantity.from_astropy(rho.decompose())}\n",
    "\n",
    "ds = yt.load_uniform_grid(data, x.shape, length_unit='m', magnetic_unit='T',\n",
    "                          mass_unit='kg', periodicity=[False]*3, bbox=bbox)"
   ]
  },
  {
   "cell_type": "markdown",
   "metadata": {
    "slideshow": {
     "slide_type": "slide"
    }
   },
   "source": [
    "## The Magnetic Flux Tube\n",
    "\n",
    "The magnetic field model follows <cite data-cite=\"1226750/4CKVZT29\"></cite>(Gent et al. 2013) and is constructed as a self-similar, cylindrically symmetric, expanding field."
   ]
  },
  {
   "cell_type": "code",
   "execution_count": null,
   "metadata": {
    "collapsed": false,
    "scrolled": false
   },
   "outputs": [],
   "source": [
    "slc = yt.SlicePlot(ds, 'x', 'density', origin='lower-center-domain', axes_unit='Mm')\n",
    "slc.set_figure_size(10)\n",
    "slc.set_cmap('all', 'viridis')\n",
    "slc.set_font_size(20)\n",
    "slc.set_zlim('all', 0, 2.5e-4)\n",
    "\n",
    "\n",
    "seed_points = np.zeros([11,2]) + 1.52\n",
    "seed_points[:,0] = np.linspace(-0.99, 0.95, seed_points.shape[0], endpoint=True)\n",
    "slc.annotate_streamlines('mag_field_y', 'mag_field_z', field_color='magnetic_field_strength',\n",
    "plot_args={'start_points':seed_points, 'density':15, 'cmap':'Blues', 'linewidth':2,\n",
    "'norm': matplotlib.colors.LogNorm(*ds.all_data().quantities.extrema(\"magnetic_field_strength\"))})\n",
    "#force render\n",
    "slc.save('/tmp/test.png')\n",
    "#use the raw Figure for transparent bg\n",
    "slc.plots['density'].figure"
   ]
  },
  {
   "cell_type": "markdown",
   "metadata": {
    "slideshow": {
     "slide_type": "slide"
    }
   },
   "source": [
    "# Driving Waves in the Simulation Domain\n",
    "\n",
    "$$\n",
    "\\vec{V}(x,y,z,t) = \\vec{F}(x,y,z) \\ e^{-\\left(\\frac{x^2}{\\Delta x^2} + \\frac{y^2}{\\Delta y^2} + \\frac{z^2}{\\Delta z^2}\\right)} \\sin \\left(2\\pi \\frac{t}{P}\\right)\n",
    "$$\n",
    "\n",
    "![](./images/domain_schematic.png)"
   ]
  },
  {
   "cell_type": "markdown",
   "metadata": {
    "slideshow": {
     "slide_type": "slide"
    }
   },
   "source": [
    "# Identifying Waves from Broadband Drivers\n",
    "\n",
    "Photospheric drivers excite multiple wave modes simulatenously.\n",
    "\n",
    "How to quantify the relative strengths of the different modes from different drivers?\n",
    "\n",
    "<br />\n",
    "**Assume uniform media:**\n",
    "\n",
    "- Locally decompose perturbations into Fast, Slow and Alfvén modes.\n",
    "- Compare the percentage wave energy in each mode."
   ]
  },
  {
   "cell_type": "code",
   "execution_count": null,
   "metadata": {
    "collapsed": true,
    "slideshow": {
     "slide_type": "skip"
    }
   },
   "outputs": [],
   "source": [
    "#Define tvtk notebook viewer\n",
    "from IPython.core.display import Image\n",
    "import subprocess\n",
    "def mlab_view(scene, azimuth=153, elevation=62, distance=400, focalpoint=np.array([  25.,   63.,  60.]), aa=16):\n",
    "    scene.anti_aliasing_frames = aa\n",
    "    mlab.view(azimuth=azimuth, elevation=elevation, distance=distance, focalpoint=focalpoint)\n",
    "    scene.save('offscreen.png', size=(750, 750))\n",
    "    subprocess.call([\"convert\", \"offscreen.png\", \"-transparent\", \"white\", \"offscreen.png\"])\n",
    "    return Image(filename='offscreen.png') "
   ]
  },
  {
   "cell_type": "markdown",
   "metadata": {
    "slideshow": {
     "slide_type": "slide"
    }
   },
   "source": [
    "## Relationship between Mode and Velocity Perturbation\n",
    "\n",
    "Assuming parallel propagation (along the magnetic field) $k_\\parallel >> k_\\perp$ it can be shown that the slow mode and fast mode perturb different components of velocity:\n",
    "\n",
    "<div class='left'>\n",
    "\n",
    "Fast mode:\n",
    "\n",
    "$$\n",
    "\\frac{|v_\\parallel|}{|v_\\perp|+|v_\\parallel|} = \\frac{\\frac{k_\\parallel}{k_\\perp}|v_\\perp|}{|v_\\perp|+\\frac{k_\\parallel}{k_\\perp}|v_\\perp|}\\\\\n",
    "= \\frac{\\frac{k_\\parallel}{k_\\perp}}{1+\\frac{k_\\parallel}{k_\\perp}}\\\\\n",
    "= \\frac{1}{\\frac{k_\\perp}{k_\\parallel}+1}\\\\\n",
    "\\ \\\\\n",
    "|v_\\parallel| >> |v_\\perp|\n",
    "$$\n",
    "\n",
    "</div>\n",
    "\n",
    "<div class='right'>\n",
    "Slow mode:\n",
    "\n",
    "$$\n",
    "    \\frac{|v_\\parallel|}{|v_\\perp|+|v_\\parallel|} = \\frac{\\frac{k_\\perp}{k_\\parallel}|v_\\perp|}{|v_\\perp|+\\frac{k_\\perp}{k_\\parallel}|v_\\perp|}\\\\\n",
    "    = \\frac{\\frac{k_\\perp}{k_\\parallel}}{1+\\frac{k_\\perp}{k_\\parallel}}\\\\\n",
    "    = \\frac{1}{\\frac{k_\\parallel}{k_\\perp} + 1}\\\\\n",
    "\\ \\\\\n",
    "|v_\\parallel| << |v_\\perp|\n",
    "$$\n",
    "\n",
    "</div>"
   ]
  },
  {
   "cell_type": "markdown",
   "metadata": {
    "slideshow": {
     "slide_type": "slide"
    }
   },
   "source": [
    "# Decomposing Velocity Pertubation in SAC"
   ]
  },
  {
   "cell_type": "code",
   "execution_count": null,
   "metadata": {
    "collapsed": false,
    "slideshow": {
     "slide_type": "skip"
    }
   },
   "outputs": [],
   "source": [
    "ds = pysac.yt.SACGDFDataset('/home/stuart/VivaData/Slog_p240-0_A10_B005_00001.gdf')"
   ]
  },
  {
   "cell_type": "code",
   "execution_count": null,
   "metadata": {
    "collapsed": false,
    "scrolled": false,
    "slideshow": {
     "slide_type": "skip"
    }
   },
   "outputs": [],
   "source": [
    "from tvtk.api import tvtk\n",
    "\n",
    "#pysac imports\n",
    "import pysac.yt\n",
    "import pysac.analysis.tube3D.tvtk_tube_functions as ttf\n",
    "import pysac.plot.mayavi_plotting_functions as mpf\n",
    "from pysac.plot.mayavi_seed_streamlines import SeedStreamline\n",
    "from pysac.plot.divergingcolourmaps import get_mayavi_colourmap\n",
    "from pysac.analysis.tube3D.process_utils import get_yt_mlab\n",
    "\n",
    "### Load in and Config ###\n",
    "\n",
    "# loaded above\n",
    "ds = pysac.yt.SACGDFDataset('/home/stuart/VivaData/Slog_p240-0_A10_B005_00001.gdf')\n",
    "tube_r = 60\n",
    "\n",
    "#if running this creates a persistant window just get it out of the way!\n",
    "mlab.options.offscreen = True\n",
    "fig = mlab.figure(bgcolor=(1, 1, 1))\n",
    "\n",
    "cg = ds.index.grids[0]\n",
    "\n",
    "#Slices\n",
    "cube_slice = np.s_[:,:,:-5]\n",
    "x_slice = np.s_[:,:,:,:-5]\n",
    "\n",
    "#Define the size of the domain\n",
    "xmax, ymax, zmax = np.array(cg['density'].to_ndarray()[cube_slice].shape) - 1\n",
    "domain = {'xmax':xmax, 'ymax':ymax, 'zmax':zmax}\n",
    "\n",
    "bfield, vfield = get_yt_mlab(ds, cube_slice, flux=False)\n",
    "\n",
    "#Create a scalar field of the magntiude of the vector field\n",
    "bmag = mlab.pipeline.extract_vector_norm(bfield, name=\"Field line Normals\")"
   ]
  },
  {
   "cell_type": "code",
   "execution_count": null,
   "metadata": {
    "collapsed": false,
    "slideshow": {
     "slide_type": "subslide"
    }
   },
   "outputs": [],
   "source": [
    "xc = domain['xmax']/2\n",
    "yc = domain['ymax']/2\n",
    "ti = 0\n",
    "n = 100\n",
    "\n",
    "surf_seeds = []\n",
    "for theta in np.linspace(0, 2 * np.pi, n, endpoint=False):\n",
    "    surf_seeds.append([tube_r * np.cos(theta + 0.5 * ti) + xc,\n",
    "    tube_r * np.sin(theta + 0.5 * ti) + yc, domain['zmax']])\n",
    "\n",
    "seeds = np.array(surf_seeds)\n",
    "#Add axes:\n",
    "axes, outline = mpf.add_axes(np.array(zip(ds.domain_left_edge,ds.domain_right_edge)).flatten()/1e8)\n",
    "\n",
    "#Add seed points to plot:\n",
    "seed_points = mlab.points3d(seeds[:,0], seeds[:,1], seeds[:,2],\n",
    "color=(0.231, 0.298, 0.752), scale_mode='none',\n",
    "scale_factor=1.5)\n",
    "\n",
    "mlab_view(fig.scene)"
   ]
  },
  {
   "cell_type": "code",
   "execution_count": null,
   "metadata": {
    "collapsed": false,
    "slideshow": {
     "slide_type": "subslide"
    }
   },
   "outputs": [],
   "source": [
    "field_lines = SeedStreamline(seed_points = np.array(seeds))\n",
    "bmag.add_child(field_lines)\n",
    "field_lines.actor.mapper.scalar_visibility = False\n",
    "field_lines.actor.property.color = (0,0,0)\n",
    "field_lines.actor.property.line_width = 1.5\n",
    "\n",
    "mlab_view(fig.scene)"
   ]
  },
  {
   "cell_type": "code",
   "execution_count": null,
   "metadata": {
    "collapsed": false,
    "slideshow": {
     "slide_type": "subslide"
    }
   },
   "outputs": [],
   "source": [
    "pd_seeds = ttf.make_circle_seeds(100, 60, **domain)\n",
    "fieldlines, surface = ttf.create_flux_surface(bfield.outputs[0], pd_seeds)\n",
    "surface.output.lines = None\n",
    "flux_surface = mlab.pipeline.surface(surface.output)\n",
    "flux_surface.actor.mapper.scalar_visibility = False\n",
    "flux_surface.actor.property.color = (0.8,0.8,0.8)\n",
    "#flux_surface.actor.property.line_width = 0\n",
    "\n",
    "mlab_view(fig.scene)"
   ]
  },
  {
   "cell_type": "code",
   "execution_count": null,
   "metadata": {
    "collapsed": false,
    "slideshow": {
     "slide_type": "subslide"
    }
   },
   "outputs": [],
   "source": [
    "axes.visible = False\n",
    "outline.visible = False\n",
    "flux_surface.actor.property.edge_visibility = True\n",
    "mlab_view(fig.scene, azimuth = 90, elevation = 75, distance=80, focalpoint=[63, 120, 110], aa=20)"
   ]
  },
  {
   "cell_type": "code",
   "execution_count": null,
   "metadata": {
    "collapsed": false,
    "slideshow": {
     "slide_type": "subslide"
    }
   },
   "outputs": [],
   "source": [
    "poly_norms = ttf.make_poly_norms(surface.output)\n",
    "normvec = mlab.pipeline.glyph(poly_norms.output)\n",
    "normvec.glyph.glyph_source.glyph_source = normvec.glyph.glyph_source.glyph_dict['arrow_source']\n",
    "normvec.glyph.glyph.scale_mode = 'data_scaling_off'\n",
    "normvec.glyph.glyph.color_mode = 'color_by_scale'\n",
    "normvec.glyph.glyph.scale_factor = 5\n",
    "normvec.glyph.glyph_source.glyph_position = 'tail'\n",
    "\n",
    "mlab_view(fig.scene, azimuth=85, elevation=80, distance=50, focalpoint=[63, 120, 110], aa=20)"
   ]
  },
  {
   "cell_type": "markdown",
   "metadata": {
    "slideshow": {
     "slide_type": "slide"
    }
   },
   "source": [
    "# MHD Waves excited by Different Photospheric Drivers\n",
    "\n",
    "## Chapter 4\n",
    "\n",
    "<br />\n",
    "<br />\n",
    "<br />\n",
    "\n",
    "<b>Mumford, S. J.</b>, Fedun, V., Erdélyi, R. - <i>The Astrophysical Journal</i> -  January 2015 - Volume 799, Issue 1 <br/>\n",
    "<a href=\"http://labs.adsabs.harvard.edu/adsabs/abs/2013arXiv1305.7415M/\"\n",
    "target=\"blank_\" class=\"papertitle\">Generation of Magnetohydrodynamic Waves in Low Solar\n",
    " Atmospheric Flux Tubes by Photospheric Motions</a>"
   ]
  },
  {
   "cell_type": "code",
   "execution_count": null,
   "metadata": {
    "collapsed": false,
    "scrolled": false,
    "slideshow": {
     "slide_type": "slide"
    }
   },
   "outputs": [],
   "source": [
    "from streamlines import Streamlines\n",
    "#Use Equation 1 to calculate the vector field in a 2D plane to plot it.\n",
    "time = np.linspace(0,60,480)\n",
    "dt = time[1:] - time [:-1]\n",
    "period = 240.\n",
    "\n",
    "x = np.linspace(7812.5,1992187.5,128)\n",
    "y = np.linspace(7812.5,1992187.5,128)\n",
    "\n",
    "x_max = x.max()\n",
    "y_max = y.max()\n",
    "\n",
    "xc = 1.0e6\n",
    "yc = 1.0e6\n",
    "\n",
    "xn = x - xc\n",
    "yn = y - yc\n",
    "\n",
    "delta_x=0.1e6\n",
    "delta_y=0.1e6\n",
    "\n",
    "xx, yy = np.meshgrid(xn,yn)\n",
    "exp_y = np.exp(-(yn**2.0/delta_y**2.0))\n",
    "exp_x = np.exp(-(xn**2.0/delta_x**2.0))\n",
    "\n",
    "exp_x2, exp_y2= np.meshgrid(exp_x,exp_y)\n",
    "exp_xyz = exp_x2 * exp_y2\n",
    "\n",
    "\n",
    "#==============================================================================\n",
    "# Define Driver Equations and Parameters\n",
    "#==============================================================================\n",
    "#A is the amplitude, B is the spiral expansion factor\n",
    "A = 10\n",
    "\n",
    "#Tdamp defines the damping of the driver with time, Tdep is the ocillator\n",
    "tdamp = lambda time1: 1.0 #*np.exp(-(time1/(period)))\n",
    "tdep = lambda time1: np.sin((time1*2.0*np.pi)/period) * tdamp(time1)\n",
    "\n",
    "#Define a peak index to use for scaling in the inital frame\n",
    "max_ind = np.argmax(tdep(time) > 0.9998)\n",
    "\n",
    "def log():\n",
    "    B = 0.05\n",
    "    phi = np.arctan2(1,B)\n",
    "    theta = np.arctan2(yy,xx)\n",
    "\n",
    "    uy = np.sin(theta + phi)\n",
    "    ux =  np.cos(theta + phi)\n",
    "\n",
    "    vx = lambda time1: (ux / np.sqrt(ux**2 + uy**2)) * exp_xyz * tdep(time1) * A\n",
    "    vy = lambda time1: (uy / np.sqrt(ux**2 + uy**2)) * exp_xyz * tdep(time1) * A\n",
    "\n",
    "    vv = np.sqrt(vx(time[max_ind])**2 + vy(time[max_ind])**2)\n",
    "\n",
    "    return vx, vy, vv\n",
    "\n",
    "def arch():\n",
    "    B = 0.005\n",
    "    r = np.sqrt(xx**2 + yy**2)\n",
    "\n",
    "    vx = lambda time1: ( (B*1e6 * xx) / (xx**2 + yy**2) + yy/r ) * exp_xyz * tdep(time1) * A\n",
    "    vy = lambda time1: ( (B*1e6 * yy) / (xx**2 + yy**2) - xx/r ) * exp_xyz * tdep(time1) * A\n",
    "\n",
    "    vv = np.sqrt(vx(time[max_ind])**2 + vy(time[max_ind])**2)\n",
    "\n",
    "    return vx, vy, vv\n",
    "\n",
    "def uniform():\n",
    "    #Uniform\n",
    "    vx = lambda time1: A * (yy / np.sqrt(xx**2 + yy**2)) * exp_xyz * tdep(time1)\n",
    "    vy = lambda time1: A * (-xx / np.sqrt(xx**2 + yy**2)) * exp_xyz * tdep(time1)\n",
    "    vv = np.sqrt(vx(time[max_ind])**2 + vy(time[max_ind])**2)\n",
    "    \n",
    "    return vx, vy, vv\n",
    "\n",
    "drivers = [log, arch, uniform]\n",
    "\n",
    "#fig, axs = plt.subplots(1, 3, figsize=(18,9))\n",
    "\n",
    "for driver_func in drivers:\n",
    "    fig, ax = plt.subplots(figsize=(7,6), dpi=300)\n",
    "    #============================================================================\n",
    "    # Do the Plotting\n",
    "    #============================================================================\n",
    "    vx, vy, vv = driver_func()\n",
    "    # Calculate Streamline\n",
    "    slines = Streamlines(x,y,vx(time[max_ind]),vy(time[max_ind]),maxLen=7000,\n",
    "                         x0=xc, y0=yc, direction='forwards')\n",
    "\n",
    "    im = ax.imshow(vv, cmap='Blues', extent=[7812.5,x_max,7812.5,y_max])\n",
    "    im.set_norm(matplotlib.colors.Normalize(vmin=0,vmax=A))\n",
    "    #ax.hold()\n",
    "    \n",
    "    if driver_func != uniform:\n",
    "        Sline, = ax.plot(slines.streamlines[0][0],slines.streamlines[0][1],color='red',linewidth=2, zorder=40)\n",
    "    else:\n",
    "        Sline = matplotlib.patches.Circle([1e6, 1e6], radius=.15e6, fill=False, color='red', linewidth=2, zorder=40)\n",
    "        ax.add_artist(Sline)\n",
    "\n",
    "    #Add colourbar\n",
    "    divider = make_axes_locatable(ax)\n",
    "    cax = divider.append_axes(\"right\", size=\"5%\", pad=0.2)\n",
    "    cbar = plt.colorbar(im,cax)\n",
    "    cbar.set_label(r\"$|V|$ [ms$^{-1}$]\")\n",
    "    scalar = matplotlib.ticker.ScalarFormatter(useMathText=False,useOffset=False)\n",
    "    scalar.set_powerlimits((-3,3))\n",
    "    cbar.formatter = scalar\n",
    "    cbar.ax.yaxis.get_offset_text().set_visible(True)\n",
    "    cbar.update_ticks()\n",
    "    #cbar.solids.set_rasterized(True)\n",
    "    cbar.solids.set_edgecolor(\"face\")\n",
    "\n",
    "    #Add quiver plot overlay\n",
    "    qu = ax.quiver(x, y, vx(time[max_ind]), vy(time[max_ind]), scale=25*A, color='k', zorder=20, linewidth=1)\n",
    "    ax.axis([8.0e5,12.0e5,8.0e5,12.0e5])\n",
    "\n",
    "    ax.xaxis.set_major_formatter(scalar)\n",
    "    ax.yaxis.set_major_formatter(scalar)\n",
    "    ax.xaxis.set_major_locator(matplotlib.ticker.MaxNLocator(5))\n",
    "    ax.yaxis.set_major_locator(matplotlib.ticker.MaxNLocator(5))\n",
    "    ax.xaxis.get_offset_text().set_visible(False)\n",
    "    ax.yaxis.get_offset_text().set_visible(False)\n",
    "    ax.set_xlabel(\"X [Mm]\")\n",
    "    ax.set_ylabel(\"Y [Mm]\")\n",
    "\n",
    "    fig.savefig('images/driver_{}.png'.format(driver_func.__name__), transparent=True)"
   ]
  },
  {
   "cell_type": "markdown",
   "metadata": {},
   "source": [
    "# Driving Waves in the Simulation Domain\n",
    "<br />\n",
    "<p>\n",
    "$$\n",
    "\\vec{V}(x,y,z,t) = \\vec{F}(x,y,z) \\ e^{-\\left(\\frac{x^2}{\\Delta x^2} + \\frac{y^2}{\\Delta y^2} + \\frac{z^2}{\\Delta z^2}\\right)} \\sin \\left(2\\pi \\frac{t}{P}\\right)\n",
    "$$\n",
    "\n",
    "</p>\n",
    "\n",
    "## Uniform Driver\n",
    "\n",
    "\n",
    "<div class='left'>\n",
    "\n",
    "<p>\n",
    "$$\n",
    "F_x = A \\frac{y}{\\sqrt{x^2 + y^2}},\\\\\n",
    "F_y = - A \\frac{x}{\\sqrt{x^2 + y^2}},\n",
    "$$\n",
    "</p>\n",
    "\n",
    "</div>\n",
    "\n",
    "<div class='right'>\n",
    "\n",
    "<img width=90% src=\"./images/driver_uniform.png\"/>\n",
    "\n",
    "</div>\n",
    "\n"
   ]
  },
  {
   "cell_type": "markdown",
   "metadata": {
    "slideshow": {
     "slide_type": "subslide"
    }
   },
   "source": [
    "## Archmedian Spiral\n",
    "\n",
    "<br />\n",
    "<div class='left'>\n",
    "\n",
    "<p>\n",
    "$$\n",
    "F_x = A \\frac{B_Ax}{x^2 + y^2} \\frac{y}{\\sqrt{x^2 + y^2}},\\\\\n",
    "F_y = - A \\frac{B_Ay}{x^2 + y^2} \\frac{x}{\\sqrt{x^2 + y^2}}.\n",
    "$$\n",
    "</p>\n",
    "\n",
    "</div>\n",
    "\n",
    "<div class='right'>\n",
    "\n",
    "<img width=90% src=\"./images/driver_arch.png\"/>\n",
    "\n",
    "</div>"
   ]
  },
  {
   "cell_type": "markdown",
   "metadata": {
    "slideshow": {
     "slide_type": "subslide"
    }
   },
   "source": [
    "## Logarithmic Spiral\n",
    "<br />\n",
    "\n",
    "<div class='left'>\n",
    "\n",
    "<p>\n",
    "$$\n",
    "F_x = A \\frac{\\cos(\\theta + \\phi)}{\\sqrt{x^2 + y^2}},\\\\\n",
    "F_y = - A \\frac{\\sin(\\theta + \\phi)}{\\sqrt{x^2 + y^2}},\\\\\n",
    "$$\n",
    "where,\n",
    "$\\theta = \\tan^{-1}\\left(\\frac{y}{x}\\right),\\ \\phi = \\tan^{-1}\\left(\\frac{1}{B_L}\\right)$\n",
    "\n",
    "\n",
    "\n",
    "</p>\n",
    "\n",
    "</div>\n",
    "\n",
    "<div class='right'>\n",
    "\n",
    "<img width=90% src=\"./images/driver_log.png\"/>\n",
    "\n",
    "</div>"
   ]
  },
  {
   "cell_type": "markdown",
   "metadata": {
    "slideshow": {
     "slide_type": "slide"
    }
   },
   "source": [
    "# Analysis and Results\n",
    "\n",
    "<br />\n",
    "<video style=\"margin: 0 auto; width: 90%;\" height=\"700px\" data-autoplay loop>\n",
    "  <source src=\"./images/Slog_p240_A10_r60_vperp.mp4\" type=\"video/mp4\">\n",
    "Your browser does not support the video tag.\n",
    "</video>"
   ]
  },
  {
   "cell_type": "markdown",
   "metadata": {
    "slideshow": {
     "slide_type": "slide"
    }
   },
   "source": [
    "## Wave Flux\n",
    "\n",
    "Calculate wave energy flux from <cite data-cite=\"1226750/2RIPHSJK\"></cite>(Leroy 1985).\n",
    "$$\n",
    "\\vec{F}_{\\text{wave}} \\equiv \\widetilde{p}_k \\vec{v} + \\frac{1}{\\mu_0} \\left(\\vec{B}_b \\cdot \\vec{\\widetilde{B}}\\right) \\vec{v} - \\frac{1}{\\mu_0}\\left(\\vec{v} \\cdot \\vec{\\widetilde{B}} \\right) \\vec{B}_b\n",
    "$$\n",
    "\n",
    "Decompose onto the flux surfaces in the same manner as velocity."
   ]
  },
  {
   "cell_type": "markdown",
   "metadata": {
    "slideshow": {
     "slide_type": "slide"
    }
   },
   "source": [
    "# Time-Distance Diagrams"
   ]
  },
  {
   "cell_type": "code",
   "execution_count": null,
   "metadata": {
    "collapsed": false,
    "slideshow": {
     "slide_type": "skip"
    }
   },
   "outputs": [],
   "source": [
    "import td_plotting_helpers as ph\n",
    "import time_distance_plots as tdp\n",
    "from matplotlib.image import NonUniformImage\n",
    "import texfigure\n",
    "ch4 = texfigure.Manager(None, number=4, base_path='/home/stuart/GitHub/Thesis/thesis/Chapter4/')\n",
    "\n",
    "figsize = (17,8)\n",
    "\n",
    "pvel_labels = {'par_label':r'$V_\\parallel[$ ms$^{-1}$]', \n",
    "                'perp_label':r'$V_\\perp$ [ms$^{-1}$]',\n",
    "                'phi_label':r'$V_\\phi$ [ms$^{-1}$]'}\n",
    "\n",
    "\n",
    "pflux_labels = {'par_label':r'$F_\\parallel / F^2$ ', \n",
    "                'perp_label':r'$F_\\perp / F^2$',\n",
    "                'phi_label':r'$F_\\phi / F^2$'}\n",
    "\n",
    "post_amp = \"A10\"\n",
    "period = \"p240\"\n",
    "tube_r = 'r30'\n",
    "drivers = ['horiz', 'vert', 'Suni', 'Sarch', 'Slog']\n",
    "exp_facs = [None, None, 'B0', 'B0005', 'B005']\n",
    "captions = ['Horizontal', 'Vertical', 'Circular', 'Archemedian Spiral', 'Logarithmic Spiral']\n",
    "\n",
    "figures = {}\n",
    "\n",
    "for j, (driver, exp_fac, caption) in enumerate(zip(drivers, exp_facs, captions)):\n",
    "    \n",
    "    all_times, y, all_spoints = tdp.get_xy(ch4.data_dir, driver, period, post_amp, tube_r, exp_fac)\n",
    "    data, beta_line = tdp.get_data(ch4.data_dir, driver, period, post_amp, tube_r, exp_fac)\n",
    "    va_line, cs_line = tdp.get_speeds(ch4.data_dir, driver, period, post_amp, tube_r, exp_fac)\n",
    "\n",
    "    Fdata, beta_line, avgs = tdp.get_flux(ch4.data_dir, driver, period, post_amp, tube_r, exp_fac)\n",
    "\n",
    "    \n",
    "    fd = lambda args: [a.T for a in args]\n",
    "       \n",
    "    ph.xxlim = -150\n",
    "    \n",
    "    fig, axes = plt.subplots(nrows=3, ncols=2, sharex=True, figsize=figsize)\n",
    "    ph.triple_plot(axes[:,0], all_times, y, *fd(data), beta_line=1./beta_line,\n",
    "                   levels=[1.,3.,5.,7.,10.,100.], manual_locations=False, **pvel_labels)\n",
    "    \n",
    "    \n",
    "    \n",
    "    ph.triple_plot(axes[:,1], all_times, y, *fd(Fdata), beta_line=1./beta_line,\n",
    "                   levels=[1.,3.,5.,7.,10.,100.], manual_locations=False, cmap='PRGn', **pflux_labels)\n",
    "    \n",
    "    for ax in axes[:,0]:\n",
    "        ph.add_phase_speeds(ax, all_times, y, va_line, cs_line, dx_scale=1e6, color='g')\n",
    "    \n",
    "    for ax in axes[:,1]:\n",
    "        ph.add_phase_speeds(ax, all_times, y, va_line, cs_line, dx_scale=1e6, color='c')\n",
    "        \n",
    "    #Remove the top two x labels\n",
    "    axes[0,0].set_xlabel('')\n",
    "    axes[1,0].set_xlabel('')\n",
    "    axes[0,1].set_xlabel('')\n",
    "    axes[1,1].set_xlabel('')\n",
    "    fig.tight_layout(h_pad=0.05)\n",
    "    figures[driver] = fig"
   ]
  },
  {
   "cell_type": "markdown",
   "metadata": {
    "slideshow": {
     "slide_type": "subslide"
    }
   },
   "source": [
    "# Vertical Driver"
   ]
  },
  {
   "cell_type": "code",
   "execution_count": null,
   "metadata": {
    "collapsed": false
   },
   "outputs": [],
   "source": [
    "figures['vert']"
   ]
  },
  {
   "cell_type": "markdown",
   "metadata": {
    "slideshow": {
     "slide_type": "subslide"
    }
   },
   "source": [
    "# Horizontal Driver"
   ]
  },
  {
   "cell_type": "code",
   "execution_count": null,
   "metadata": {
    "collapsed": false
   },
   "outputs": [],
   "source": [
    "figures['horiz']"
   ]
  },
  {
   "cell_type": "markdown",
   "metadata": {
    "slideshow": {
     "slide_type": "subslide"
    }
   },
   "source": [
    "# Logarithmic Spiral"
   ]
  },
  {
   "cell_type": "code",
   "execution_count": null,
   "metadata": {
    "collapsed": false
   },
   "outputs": [],
   "source": [
    "figures['Slog']"
   ]
  },
  {
   "cell_type": "markdown",
   "metadata": {
    "slideshow": {
     "slide_type": "slide"
    }
   },
   "source": [
    "# Comparison of Flux Averages"
   ]
  },
  {
   "cell_type": "code",
   "execution_count": null,
   "metadata": {
    "collapsed": false,
    "slideshow": {
     "slide_type": "-"
    }
   },
   "outputs": [],
   "source": [
    "from flux_comparison import make_flux_bar_chart, get_averages\n",
    "\n",
    "Favgs = get_averages(ch4.data_dir)\n",
    "\n",
    "fig = make_flux_bar_chart((13,11), ch4.data_dir)\n",
    "fig"
   ]
  },
  {
   "cell_type": "code",
   "execution_count": null,
   "metadata": {
    "collapsed": true,
    "slideshow": {
     "slide_type": "skip"
    }
   },
   "outputs": [],
   "source": [
    "from sacconfig import SACConfig\n",
    "cfg = SACConfig(cfg_file=\"./python/ch5_config.cfg\")\n",
    "\n",
    "BL = np.array([0.015, 0.05, 0.15, 0.45, 1.5])"
   ]
  },
  {
   "cell_type": "code",
   "execution_count": null,
   "metadata": {
    "collapsed": false,
    "slideshow": {
     "slide_type": "skip"
    }
   },
   "outputs": [],
   "source": [
    "fig, ax = plt.subplots(figsize=(9,2), dpi=600)\n",
    "ax.plot(BL, np.ones(BL.size), 'x', markersize=10, mew=2)\n",
    "ax.errorbar([0.15], [1], xerr=np.array([[-1*(0.15-1/(6.4-1.6)), 0.15+1/(6.4+1.6)]]).T, mew=2, elinewidth=2)\n",
    "ax.semilogx()\n",
    "ax.get_yaxis().set_visible(False)\n",
    "ax.set_frame_on(False)\n",
    "ax.get_xaxis().tick_bottom()\n",
    "ax.xaxis.set_tick_params(width=2)\n",
    "ax.xaxis.set_tick_params(width=2, which='minor')\n",
    "ax.xaxis.set_major_formatter(matplotlib.ticker.ScalarFormatter())\n",
    "ax.xaxis.set_ticks(BL)\n",
    "xmin, xmax, ymin, ymax = ax.axis()\n",
    "ax.add_artist(plt.Line2D((xmin, xmax), (ymin, ymin), color='black', linewidth=1.4))\n",
    "l = ax.set_xlim([0.01, 2.0])\n",
    "l = ax.set_xlabel(r'$B_L$', fontsize=18)\n",
    "\n",
    "fig.tight_layout(h_pad=0.01)\n",
    "fig.savefig('./images/ch5_space.png', transparent=True)"
   ]
  },
  {
   "cell_type": "markdown",
   "metadata": {
    "slideshow": {
     "slide_type": "slide"
    }
   },
   "source": [
    "# Effects of Logarithmic Spiral Expansion Factor\n",
    "## Chapter 5\n",
    "\n",
    "<br />\n",
    "<br />\n",
    "<br />\n",
    "\n",
    "<p>\n",
    "<b>Mumford, S. J.</b> and  Erdélyi, R. - <i>Monthly Noticies of the Royal Astronomical Society</i> - March 2015 - Volume 449 Issue 2. <br />\n",
    "<a href=\"http://labs.adsabs.harvard.edu/adsabs/abs/2015arXiv150101871M/\" target=\"blank_\"> Photospheric Logarithmic Velocity Spirals as MHD Wave Generation Mechanisms</a>\n",
    "</p>"
   ]
  },
  {
   "cell_type": "markdown",
   "metadata": {
    "slideshow": {
     "slide_type": "slide"
    }
   },
   "source": [
    "# Expansion Factor\n",
    "\n",
    "<br />\n",
    "\n",
    "<div class=\"left\">\n",
    "$$\n",
    "F_x = A \\frac{\\cos(\\theta + \\phi)}{\\sqrt{x^2 + y^2}},\\\\\n",
    "F_y = - A \\frac{\\sin(\\theta + \\phi)}{\\sqrt{x^2 + y^2}},\\\\\n",
    "$$\n",
    "where,\n",
    "$\\theta = \\tan^{-1}\\left(\\frac{y}{x}\\right),\\ \\phi = \\tan^{-1}\\left(\\frac{1}{B_L}\\right)$\n",
    "\n",
    "<img src=\"./images/ch5_space.png\">\n",
    "\n",
    "</div>\n",
    "\n",
    "<div class=\"right\">\n",
    "\n",
    "Using the result of <cite data-cite=\"1226750/UCDDSIK9\"></cite>(Bonet et al. 2008):\n",
    "<br />\n",
    "$$\n",
    "B_L^{-1} = 6.4 \\pm 1.6 = B_L = 0.15\n",
    "$$\n",
    "\n",
    "<img width=80% src=\"./images/bonet_2008.png\">\n",
    "</div>"
   ]
  },
  {
   "cell_type": "code",
   "execution_count": null,
   "metadata": {
    "collapsed": false,
    "scrolled": true,
    "slideshow": {
     "slide_type": "skip"
    }
   },
   "outputs": [],
   "source": [
    "beta = False\n",
    "def add_triple_phase(ax, tube_r, color='g'):\n",
    "    ps = ph.get_phase_speeds(cfg, tube_r)\n",
    "    for ax0 in ax:\n",
    "        ph.add_phase_speeds(ax0, color=color, **ps)\n",
    "\n",
    "bl_figures = {}\n",
    "for j, bl in enumerate(BL):\n",
    "    cfg.exp_fac = bl\n",
    "    \n",
    "    fig, ax = plt.subplots(nrows=3, ncols=2, sharex=True, figsize=figsize)\n",
    "    \n",
    "    kwargs = ph.get_single_velocity(cfg, 'r30', beta=beta)\n",
    "    kwargs.update(pvel_labels)\n",
    "    \n",
    "    ph.triple_plot(ax[:,0], **kwargs)\n",
    "    \n",
    "    kwargs = ph.get_single_percentage_flux(cfg, 'r30', beta=beta)\n",
    "    kwargs.update(pflux_labels)\n",
    "    kwargs.update({'cmap': 'PRGn'})\n",
    "    \n",
    "    ph.triple_plot(ax[:,1], **kwargs)\n",
    "    \n",
    "    #Remove the top two x labels\n",
    "    ax[0,0].set_xlabel('')\n",
    "    ax[1,0].set_xlabel('')\n",
    "    add_triple_phase(ax[:,0], 'r30')\n",
    "    ax[0,1].set_xlabel('')\n",
    "    ax[1,1].set_xlabel('')\n",
    "    add_triple_phase(ax[:,1], 'r30', color='c')\n",
    "    #add_all_bpert(ax, 'r30')\n",
    "    fig.tight_layout(h_pad=0.05)\n",
    "    bl_figures['B{}'.format(str(bl).replace('.',''))] = fig\n"
   ]
  },
  {
   "cell_type": "markdown",
   "metadata": {
    "slideshow": {
     "slide_type": "slide"
    }
   },
   "source": [
    "# More Time-Distance Diagrams"
   ]
  },
  {
   "cell_type": "markdown",
   "metadata": {
    "slideshow": {
     "slide_type": "subslide"
    }
   },
   "source": [
    "## Spiral Expansion Factor $B_L=0.015$"
   ]
  },
  {
   "cell_type": "code",
   "execution_count": null,
   "metadata": {
    "collapsed": false
   },
   "outputs": [],
   "source": [
    "bl_figures['B0015']"
   ]
  },
  {
   "cell_type": "markdown",
   "metadata": {
    "slideshow": {
     "slide_type": "subslide"
    }
   },
   "source": [
    "## Spiral Expansion Factor $B_L=0.15$"
   ]
  },
  {
   "cell_type": "code",
   "execution_count": null,
   "metadata": {
    "collapsed": false
   },
   "outputs": [],
   "source": [
    "bl_figures['B015']"
   ]
  },
  {
   "cell_type": "markdown",
   "metadata": {
    "slideshow": {
     "slide_type": "subslide"
    }
   },
   "source": [
    "## Spiral Expansion Factor $B_L=1.5$"
   ]
  },
  {
   "cell_type": "code",
   "execution_count": null,
   "metadata": {
    "collapsed": false,
    "scrolled": false
   },
   "outputs": [],
   "source": [
    "bl_figures['B15']"
   ]
  },
  {
   "cell_type": "markdown",
   "metadata": {
    "slideshow": {
     "slide_type": "slide"
    }
   },
   "source": [
    "# Average Wave Flux"
   ]
  },
  {
   "cell_type": "code",
   "execution_count": null,
   "metadata": {
    "collapsed": false
   },
   "outputs": [],
   "source": [
    "import os\n",
    "int_periods = np.floor(600./cfg.period)*180\n",
    "\n",
    "def calc_avgs(tube_r):\n",
    "    AvgsP = np.zeros([3,len(BL)])\n",
    "    for i, bl in enumerate(BL):\n",
    "        cfg.exp_fac = bl\n",
    "        \n",
    "        times = np.load(os.path.join(cfg.data_dir, 'Times_{}.npy'.format(cfg.get_identifier())))\n",
    "        max_index = np.argmin(np.abs(int_periods - times))\n",
    "        \n",
    "        Fpar, Fperp, Fphi = map(np.load, ph.glob_files(cfg, tube_r, 'LineFlux*Fp*npy'))\n",
    "        #Fpar, Fperp, Fphi = map(np.load, ph.glob_files(cfg, tube_r, '*vp*npy'))\n",
    "        Fpar[np.abs(Fpar)<1e-5], Fperp[np.abs(Fperp)<1e-5], Fphi[np.abs(Fphi)<1e-5] = 0., 0., 0.\n",
    "        Fpar, Fperp, Fphi = Fpar[:max_index,:], Fperp[:max_index,:], Fphi[:max_index,:]\n",
    "        \n",
    "        Ftot2 = (Fpar**2 + Fperp**2 + Fphi**2)\n",
    "        Fpar2, Fperp2, Fphi2 = np.array([Fpar, Fperp, Fphi])**2\n",
    "        FparP, FperpP, FphiP = (Fpar2/Ftot2)*100, (Fperp2/Ftot2)*100, (Fphi2/Ftot2)*100\n",
    "        \n",
    "        FparP = np.mean(np.ma.masked_array(FparP, np.isnan(FparP)))\n",
    "        FperpP = np.mean(np.ma.masked_array(FperpP, np.isnan(FperpP)))\n",
    "        FphiP = np.mean(np.ma.masked_array(FphiP, np.isnan(FphiP)))\n",
    "        \n",
    "        AvgsP[:, i] = FparP, FperpP, FphiP\n",
    "    return AvgsP\n",
    "\n",
    "figsize = (9.5,11)\n",
    "fig, axs = plt.subplots(nrows=3, figsize=figsize, sharex=True)\n",
    "titles = [\"Flux Surface Radius $=156$ km\", \"Flux Surface Radius $=468$ km\", \"Flux Surface Radius $=936$ km\"]\n",
    "tubes = []\n",
    "for i, ax in enumerate(axs):\n",
    "    AvgsP = calc_avgs(cfg.tube_radii[i])\n",
    "    tubes.append(AvgsP)\n",
    "    ax.semilogx()\n",
    "    ax.plot(BL, AvgsP[0], 'o', label=r\"$F_\\parallel^2$\", mew=0, ms=10)\n",
    "    ax.plot(BL, AvgsP[1], '_', label=r\"$F_\\perp^2$\", mew=2, ms=10)\n",
    "    ax.plot(BL, AvgsP[2], 'x', label=r\"$F_\\phi^2$\", mew=2, ms=10)\n",
    "    ax.set_ylabel(\"% Square Wave Flux\")\n",
    "    ax.set_title(titles[i])\n",
    "    ax.xaxis.set_major_formatter(matplotlib.ticker.ScalarFormatter())\n",
    "    ax.xaxis.set_ticks(BL)\n",
    "    ax.set_xlim([0.01, 2.01])\n",
    "    ax.set_ylim([0, 85])\n",
    "    err = np.array([-1*(0.15-1/(6.4-1.6)), 0.15+1/(6.4+1.6)])\n",
    "    ax.fill_betweenx(np.linspace(-5,105), err[0], err[1], alpha=0.3, color='green', linewidth=0)\n",
    "\n",
    "axs[0].legend(loc=9)\n",
    "axs[-1].set_xlabel(\"Logarithmic Spiral Expansion Factor ($B_L$)\")\n",
    "\n",
    "plt.tight_layout()\n",
    "fig"
   ]
  },
  {
   "cell_type": "markdown",
   "metadata": {
    "slideshow": {
     "slide_type": "slide"
    }
   },
   "source": [
    "# Effects of Period on MHD Wave Generation from a Logarithmic Spiral Driver\n",
    "\n",
    "## Chapter 6"
   ]
  },
  {
   "cell_type": "markdown",
   "metadata": {
    "slideshow": {
     "slide_type": "slide"
    }
   },
   "source": [
    "# Maintaining Consistent Energy Input\n",
    "<br />\n",
    "<div class='left'>\n",
    "<p>\n",
    "The amplitude is calculated using:\n",
    "\n",
    "<br />\n",
    "$$\n",
    "A^2 \\propto \\frac{1}{P}\n",
    "$$\n",
    "<br />\n",
    "\n",
    "with $A=10$ $m/s$ and $P=240$ s as the reference point.\n",
    "</p>\n",
    "</div>\n",
    "\n",
    "<div class='right'>\n",
    "    <table class=\"data-table\">\n",
    "        <tr>\n",
    "            <td class=\"border-bottom align-center\">Period [seconds]</td>\n",
    "            <td class=\"border-bottom align-center\">Amplitude [ms$^{-1}$]</td>\n",
    "        </tr>\n",
    "        <tr>\n",
    "            <td class=\"align-center\">$30.0$</td>\n",
    "            <td class=\"align-center\">$20\\sqrt{2}$</td>\n",
    "        </tr>\n",
    "        <tr>\n",
    "            <td class=\"align-center\">$60.0$</td>\n",
    "            <td class=\"align-center\">$20$</td>\n",
    "        </tr>\n",
    "        <tr>\n",
    "            <td class=\"align-center\">$90.0$</td>\n",
    "            <td class=\"align-center\">$20\\sqrt{\\frac{2}{3}}$</td>\n",
    "        </tr>\n",
    "        <tr>\n",
    "            <td class=\"align-center\">$120.0$</td>\n",
    "            <td class=\"align-center\">$10\\sqrt{2}$</td>\n",
    "        </tr>\n",
    "        <tr>\n",
    "            <td class=\"align-center\">$150.0$</td>\n",
    "            <td class=\"align-center\">$4\\sqrt{10}$</td>\n",
    "        </tr>\n",
    "        <tr>\n",
    "            <td class=\"align-center\">$180.0$</td>\n",
    "            <td class=\"align-center\">$\\frac{20}{\\sqrt{3}}$</td>\n",
    "        </tr>\n",
    "        <tr>\n",
    "            <td class=\"align-center\">$210.0$</td>\n",
    "            <td class=\"align-center\">$20\\sqrt{\\frac{2}{7}}$</td>\n",
    "        </tr>\n",
    "        <tr>\n",
    "            <td class=\"align-center\">$240.0$</td>\n",
    "            <td class=\"align-center\">$10$</td>\n",
    "        </tr>\n",
    "        <tr>\n",
    "            <td class=\"align-center\">$270.0$</td>\n",
    "            <td class=\"align-center\">$\\frac{20}{3}\\sqrt{2}$</td>\n",
    "        </tr>\n",
    "        <tr>\n",
    "            <td class=\"align-center\">$300.0$</td>\n",
    "            <td class=\"align-center\">$4\\sqrt{5}$</td>\n",
    "        </tr>\n",
    "    </table>\n",
    "</div>"
   ]
  },
  {
   "cell_type": "code",
   "execution_count": null,
   "metadata": {
    "collapsed": false,
    "slideshow": {
     "slide_type": "skip"
    }
   },
   "outputs": [],
   "source": [
    "from period_amps import periods, str_amps, sim_params\n",
    "all_periods = sim_params[:10]\n",
    "periods = periods[:10]\n",
    "\n",
    "cfg = SACConfig(cfg_file='./python/ch6_config.cfg')\n",
    "cfg.data_dir = '/home/stuart/GitHub/Thesis/thesis/Chapter6/Data/'"
   ]
  },
  {
   "cell_type": "code",
   "execution_count": null,
   "metadata": {
    "collapsed": false
   },
   "outputs": [],
   "source": [
    "beta = False\n",
    "cfg.exp_fac = 0.15\n",
    "ph.xxlim = 600\n",
    "tube_r = 'r30'\n",
    "\n",
    "def add_all_bpert(ax, tube_r, N=4, levels=None):\n",
    "    kwargs = ph.get_triple(cfg, beta=beta, single='bpert')\n",
    "    x = kwargs['x_{}'.format(tube_r)]\n",
    "    y = kwargs['y_{}'.format(tube_r)]\n",
    "    par = kwargs['par_line_{}'.format(tube_r)].T[::-1, :]\n",
    "    par[np.abs(par)<=1e-12] = 0\n",
    "    perp = kwargs['perp_line_{}'.format(tube_r)].T[::-1, :]\n",
    "    perp[np.abs(perp)<=1e-12] = 0\n",
    "    phi = kwargs['phi_line_{}'.format(tube_r)].T[::-1, :]\n",
    "    phi[np.abs(phi)<=1e-12] = 0\n",
    "    ax[0].contour(x, y, par, N, colors='k', linewidths=np.linspace(0.5,1.5,N))\n",
    "    ax[1].contour(x, y, perp, N, colors='k', linewidths=np.linspace(0.5,1.5,N))\n",
    "    ax[2].contour(x, y, phi, N, colors='k', linewidths=np.linspace(0.5,1.5,N))\n",
    "\n",
    "captions = {p: r\"Period: ${}$ s amplitude: \".format(p) + a + r\" ms$^{{-1}}$\" for p, a in zip(periods, str_amps)[:10]}\n",
    "#print(captions, file=sys.stderr)\n",
    "width = 0.79\n",
    "\n",
    "p_figures= {}\n",
    "for i, paf in enumerate(all_periods):\n",
    "    [setattr(cfg, f, getattr(paf, f)) for f in paf._fields]\n",
    "\n",
    "    fig, ax = plt.subplots(nrows=3, ncols=2, figsize=(17,8), sharex=True)\n",
    "    \n",
    "    kwargs = ph.get_single_velocity(cfg, 'r30', beta=beta)\n",
    "    kwargs.update(pvel_labels)\n",
    "    \n",
    "    ph.triple_plot(ax[:,0], **kwargs)\n",
    "    \n",
    "    kwargs = ph.get_single_percentage_flux(cfg, 'r30', beta=beta)\n",
    "    kwargs.update(pflux_labels)\n",
    "    kwargs.update({'cmap': 'PRGn'})\n",
    "    \n",
    "    ph.triple_plot(ax[:,1], **kwargs)\n",
    "    \n",
    "    #Remove the top two x labels\n",
    "    ax[0,0].set_xlabel('')\n",
    "    ax[1,0].set_xlabel('')\n",
    "    add_triple_phase(ax[:,0], 'r30')\n",
    "    ax[0,1].set_xlabel('')\n",
    "    ax[1,1].set_xlabel('')\n",
    "    add_triple_phase(ax[:,1], 'r30', color='c')\n",
    "    #add_all_bpert(ax, 'r30')\n",
    "    fig.tight_layout(h_pad=0.05)\n",
    "    p_figures[str(paf.period)] = fig\n"
   ]
  },
  {
   "cell_type": "markdown",
   "metadata": {
    "slideshow": {
     "slide_type": "slide"
    }
   },
   "source": [
    "# Even More Time-Distance Diagrams"
   ]
  },
  {
   "cell_type": "markdown",
   "metadata": {
    "slideshow": {
     "slide_type": "subslide"
    }
   },
   "source": [
    "# $P=30$ $s$ $A=20\\sqrt{2}$ $m/s$"
   ]
  },
  {
   "cell_type": "code",
   "execution_count": null,
   "metadata": {
    "collapsed": false
   },
   "outputs": [],
   "source": [
    "p_figures['30.0']"
   ]
  },
  {
   "cell_type": "markdown",
   "metadata": {
    "slideshow": {
     "slide_type": "subslide"
    }
   },
   "source": [
    "# $P=150$ $s$ $A=4\\sqrt{10}$ $m/s$"
   ]
  },
  {
   "cell_type": "code",
   "execution_count": null,
   "metadata": {
    "collapsed": false
   },
   "outputs": [],
   "source": [
    "p_figures['150.0']"
   ]
  },
  {
   "cell_type": "markdown",
   "metadata": {
    "slideshow": {
     "slide_type": "subslide"
    }
   },
   "source": [
    "# $P=300$ $s$ $A=4\\sqrt{5}$ $m/s$"
   ]
  },
  {
   "cell_type": "code",
   "execution_count": null,
   "metadata": {
    "collapsed": false
   },
   "outputs": [],
   "source": [
    "p_figures['300.0']"
   ]
  },
  {
   "cell_type": "markdown",
   "metadata": {
    "slideshow": {
     "slide_type": "slide"
    }
   },
   "source": [
    "# Period Comparison"
   ]
  },
  {
   "cell_type": "code",
   "execution_count": null,
   "metadata": {
    "collapsed": false
   },
   "outputs": [],
   "source": [
    "from period_amps import periods, sim_params\n",
    "sim_params = sim_params[:10]\n",
    "periods = np.array(periods[:10])\n",
    "\n",
    "fig, axs = plt.subplots(nrows=3, figsize=(10,11), sharex=True)\n",
    "titles = [\"Flux Surface Radius $=156$ km\", \"Flux Surface Radius $=468$ km\", \"Flux Surface Radius $=936$ km\"]\n",
    "tubes = []\n",
    "for i, ax in enumerate(axs):\n",
    "    AvgsP = ph.get_all_avgs(cfg, cfg.tube_radii[i], sim_params)\n",
    "    tubes.append(AvgsP)\n",
    "    ax.plot(periods, AvgsP[0], 'o', label=r\"$F_\\parallel^2$\", mew=0, ms=12)\n",
    "    ax.plot(periods, AvgsP[1], '_', label=r\"$F_\\perp^2$\", mew=2, ms=12)\n",
    "    ax.plot(periods, AvgsP[2], 'x', label=r\"$F_\\phi^2$\", mew=2, ms=12)\n",
    "    ax.set_ylabel(\"% Square Wave Flux\")\n",
    "    ax.set_title(titles[i])\n",
    "    ax.xaxis.set_major_formatter(matplotlib.ticker.ScalarFormatter())\n",
    "    ax.xaxis.set_ticks(periods)\n",
    "    ax.set_xticklabels([\"{}\\n[{:n}]\".format(p, 600//p) for p in periods])\n",
    "    ax.set_ylim([10, 75])\n",
    "    ax.set_xlim([25, 305])\n",
    "\n",
    "axs[-1].set_xlabel(\"Period [s] \\n [Number of periods averaged]\")\n",
    "axs[0].legend(loc=2)\n",
    "\n",
    "#axs[0].legend(bbox_to_anchor=(1.06, 1.05))\n",
    "plt.tight_layout(h_pad=0.1)\n",
    "fig"
   ]
  },
  {
   "cell_type": "markdown",
   "metadata": {
    "slideshow": {
     "slide_type": "slide"
    }
   },
   "source": [
    "# Conclusions\n",
    "\n",
    "* Different spiral driver profiles do not have a large impact on the excited waves.\n",
    "* Spirals with small expansion factors only excite $40-60$% Alfvén mode.\n",
    "* Spirals with large expansion factors exicte mostly fast mode.\n",
    "* Period only changes excited flux by $10-20$%"
   ]
  },
  {
   "cell_type": "markdown",
   "metadata": {
    "slideshow": {
     "slide_type": "slide"
    }
   },
   "source": [
    "# Future Work\n",
    "\n",
    "### Where we're going we don't need roads.\n",
    "\n",
    "* Vary the width of the driver FWHM.\n",
    "* Extend the background atmosphere using <cite data-cite=\"1226750/4CKVZT29\"></cite><cite data-cite=\"1226750/7GE8BRRP\"></cite>(Gent et al. 2013; Gent, Fedun, and Erdélyi 2014).\n",
    "* Decrease the magnetic field footpoint strength or change its size.\n",
    "* Multiple flux tubes for more realistic atmospheres."
   ]
  },
  {
   "cell_type": "markdown",
   "metadata": {
    "slideshow": {
     "slide_type": "slide"
    }
   },
   "source": [
    "# My Publications\n",
    "<br/>\n",
    "\n",
    "<div style=\"font-size:75%;\">\n",
    "<p>\n",
    "<b>Mumford, S. J.</b> and  Erdélyi, R. - Monthly Noticies of the Royal Astronomical Society - March 2015 - Volume 449 Issue 2. <br />\n",
    "<a href=\"http://labs.adsabs.harvard.edu/adsabs/abs/2015arXiv150101871M/\" target=\"blank_\"> Photospheric Logarithmic Velocity Spirals as MHD Wave Generation Mechanisms</a>\n",
    "</p>\n",
    "<p>\n",
    "<b>Mumford, S. J.</b>, Fedun, V., Erdélyi, R. - The Astrophysical Journal -  January 2015 - Volume 799, Issue 1 <br/>\n",
    "<a href=\"http://labs.adsabs.harvard.edu/adsabs/abs/2013arXiv1305.7415M/\"\n",
    "target=\"blank_\" class=\"papertitle\">Generation of Magnetohydrodynamic Waves in Low Solar\n",
    " Atmospheric Flux Tubes by Photospheric Motions</a>\n",
    "</p>\n",
    "<p>\n",
    "The SunPy Community, <b>Mumford, S. J.</b>, Christe, S., Pérez-Suárez, D., et. al - Computational Science and Discovery - January 2015 - Volume 8 Issue 1.<br/>\n",
    "<a href=\"http://labs.adsabs.harvard.edu/adsabs/abs/2015CS%26D....8a4009S/\" target=\"blank_\">SunPy: Python for Solar Physics</a>\n",
    "</p>\n",
    "\n",
    "<p>\n",
    "Freij N., Scullion E. M., Nelson C. J., <b>Mumford S. J.</b>, Wedemeyer S., and Erdélyi R. - The Astrophysical Journal - July 2014 - Volume 791, Issue 1, p.61 <br />\n",
    "<a href=\"http://labs.adsabs.harvard.edu/adsabs/abs/2014ApJ...791...61F/\" target=\"_blank\">The Detection of Upwardly Propagating Waves Channeling Energy from the Chromosphere to the Low Corona</a>\n",
    "</p>\n",
    "\n",
    "<p>\n",
    "Gent, F. A., Fedun, V., <b>Mumford, S. J.</b>, Erdélyi, R. - Monthly Notices of the Royal Astronomical Society - October 2013 - Volume 435, Issue 1, p.689-697 <br />\n",
    "<a href=\"http://labs.adsabs.harvard.edu/ui/abs/2013MNRAS.435..689G\" target=\"_blank\">Magnetohydrostatic equilibrium - I. Three-dimensional open magnetic flux tube in the stratified solar atmosphere</a>\n",
    "</p>\n",
    "\n",
    "<p>\n",
    "Nelson, C. J., Doyle, J. G., Erdélyi, R., Huang, Z., Madjarska, M. S., Mathioudakis, M., <b>Mumford, S. J.</b>, Reardon, K - Solar Physics - April 2013 - Volume 283, Issue 2, p.307-323. <br />\n",
    "<a href=\"http://labs.adsabs.harvard.edu/ui/abs/2013SoPh..283..307N\"\n",
    "target=\"_blank\" class=\"papertitle\">Statistical Analysis of Small Ellerman Bomb Events</a>\n",
    "</p>\n",
    "</div>"
   ]
  }
 ],
 "metadata": {
  "celltoolbar": "Slideshow",
  "cite2c": {
   "citations": {
    "1226750/2RIPHSJK": {
     "DOI": "10.1080/03091928508208781",
     "URL": "http://www.tandfonline.com/doi/abs/10.1080/03091928508208781",
     "accessed": {
      "day": "15",
      "month": "8",
      "year": "2013"
     },
     "author": [
      {
       "family": "Leroy",
       "given": "Bernard"
      }
     ],
     "container-title": "Geophysical & Astrophysical Fluid Dynamics",
     "id": "1226750/2RIPHSJK",
     "issue": "2",
     "issued": {
      "month": "5",
      "year": "1985"
     },
     "note": "bibtex: leroy1985",
     "page": "123-133",
     "page-first": "123",
     "title": "On the derivation of the energy flux of linear magnetohydrodynamic waves",
     "type": "article-journal",
     "volume": "32"
    },
    "1226750/45U23R6J": {
     "DOI": "10.1086/190731",
     "URL": "http://ucp.uchicago.edu/cgi-bin/resolve?id=doi:10.1086/190731",
     "accessed": {
      "day": "8",
      "month": "8",
      "year": "2013"
     },
     "author": [
      {
       "family": "Vernazza",
       "given": "J. E."
      },
      {
       "family": "Avrett",
       "given": "E. H."
      },
      {
       "family": "Loeser",
       "given": "R."
      }
     ],
     "container-title": "The Astrophysical Journal Supplement Series",
     "id": "1226750/45U23R6J",
     "issued": {
      "month": "4",
      "year": "1981"
     },
     "note": "bibtex: vernazza1981",
     "page": "635",
     "page-first": "635",
     "title": "Structure of the solar chromosphere. III - Models of the EUV brightness components of the quiet-sun",
     "type": "article-journal",
     "volume": "45"
    },
    "1226750/4CKVZT29": {
     "DOI": "10.1093/mnras/stt1328",
     "URL": "http://mnras.oxfordjournals.org/cgi/doi/10.1093/mnras/stt1328",
     "accessed": {
      "day": "8",
      "month": "4",
      "year": "2014"
     },
     "author": [
      {
       "family": "Gent",
       "given": "F. A."
      },
      {
       "family": "Fedun",
       "given": "V."
      },
      {
       "family": "Mumford",
       "given": "S. J."
      },
      {
       "family": "Erdelyi",
       "given": "R."
      }
     ],
     "container-title": "Monthly Notices of the Royal Astronomical Society",
     "id": "1226750/4CKVZT29",
     "issue": "1",
     "issued": {
      "day": "11",
      "month": "10",
      "year": "2013"
     },
     "language": "en",
     "note": "bibtex: gent2013",
     "page": "689-697",
     "page-first": "689",
     "title": "Magnetohydrostatic equilibrium - I. Three-dimensional open magnetic flux tube in the stratified solar atmosphere",
     "type": "article-journal",
     "volume": "435"
    },
    "1226750/77CNNZUU": {
     "DOI": "10.1038/nature10235",
     "URL": "http://www.nature.com/doifinder/10.1038/nature10235",
     "accessed": {
      "day": "7",
      "month": "4",
      "year": "2014"
     },
     "author": [
      {
       "family": "McIntosh",
       "given": "Scott W."
      },
      {
       "family": "De Pontieu",
       "given": "Bart"
      },
      {
       "family": "Carlsson",
       "given": "Mats"
      },
      {
       "family": "Hansteen",
       "given": "Viggo"
      },
      {
       "family": "Boerner",
       "given": "Paul"
      },
      {
       "family": "Goossens",
       "given": "Marcel"
      }
     ],
     "container-title": "Nature",
     "id": "1226750/77CNNZUU",
     "issue": "7357",
     "issued": {
      "day": "27",
      "month": "7",
      "year": "2011"
     },
     "note": "bibtex: mcintosh2011",
     "page": "477-480",
     "page-first": "477",
     "title": "Alfvénic waves with sufficient energy to power the quiet solar corona and fast solar wind",
     "type": "article-journal",
     "volume": "475"
    },
    "1226750/7GE8BRRP": {
     "DOI": "10.1088/0004-637X/789/1/42",
     "URL": "http://stacks.iop.org/0004-637X/789/i=1/a=42?key=crossref.07d9545bc0c0a1c8db342e97ccd1b289",
     "accessed": {
      "day": "18",
      "month": "7",
      "year": "2014"
     },
     "author": [
      {
       "family": "Gent",
       "given": "F. A."
      },
      {
       "family": "Fedun",
       "given": "V."
      },
      {
       "family": "Erdélyi",
       "given": "R."
      }
     ],
     "container-title": "The Astrophysical Journal",
     "id": "1226750/7GE8BRRP",
     "issue": "1",
     "issued": {
      "day": "1",
      "month": "7",
      "year": "2014"
     },
     "note": "bibtex: gent2014",
     "page": "42",
     "page-first": "42",
     "title": "Magnetohydrostatic Equilibrium. II. Three-Dimensional Multiple Open Magnetic Flux Tubes in the Stratified Solar Atmosphere",
     "type": "article-journal",
     "volume": "789"
    },
    "1226750/9AMFKPUF": {
     "DOI": "10.1051/0004-6361:200809800",
     "URL": "http://www.aanda.org/10.1051/0004-6361:200809800",
     "accessed": {
      "day": "7",
      "month": "8",
      "year": "2013"
     },
     "author": [
      {
       "family": "Shelyag",
       "given": "S."
      },
      {
       "family": "Fedun",
       "given": "V."
      },
      {
       "family": "Erdélyi",
       "given": "R."
      }
     ],
     "container-title": "Astronomy and Astrophysics",
     "id": "1226750/9AMFKPUF",
     "issue": "2",
     "issued": {
      "month": "8",
      "year": "2008"
     },
     "note": "bibtex: shelyag2008",
     "page": "655-662",
     "page-first": "655",
     "title": "Magnetohydrodynamic code for gravitationally-stratified media",
     "type": "article-journal",
     "volume": "486"
    },
    "1226750/GAAKCPXV": {
     "DOI": "10.1093/mnras/stv365",
     "URL": "http://mnras.oxfordjournals.org/cgi/doi/10.1093/mnras/stv365",
     "accessed": {
      "raw": "2015-06-11"
     },
     "author": [
      {
       "family": "Mumford",
       "given": "S. J."
      },
      {
       "family": "Erdélyi",
       "given": "R."
      }
     ],
     "container-title": "Monthly Notices of the Royal Astronomical Society",
     "issue": "2",
     "issued": {
      "raw": "2015-03-25"
     },
     "language": "en",
     "note": "bibtex: mumford2015a",
     "page": "1679-1685",
     "title": "Photospheric logarithmic velocity spirals as MHD wave generation mechanisms",
     "type": "article-journal",
     "volume": "449"
    },
    "1226750/RZ7PH3U7": {
     "URL": "http://arxiv.org/abs/1505.02563",
     "abstract": "This paper presents SunPy (version 0.5), a community-developed Python package for solar physics. Python, a free, cross-platform, general-purpose, high-level programming language, has seen widespread adoption among the scientific community, resulting in the availability of a large number of software packages, from numerical computation (NumPy, SciPy) and machine learning (scikit-learn) to visualisation and plotting (matplotlib). SunPy is a data-analysis environment specialising in providing the software necessary to analyse solar and heliospheric data in Python. SunPy is open-source software (BSD licence) and has an open and transparent development workflow that anyone can contribute to. SunPy provides access to solar data through integration with the Virtual Solar Observatory (VSO), the Heliophysics Event Knowledgebase (HEK), and the HELiophysics Integrated Observatory (HELIO) webservices. It currently supports image data from major solar missions (e.g., SDO, SOHO, STEREO, and IRIS), time-series data from missions such as GOES, SDO/EVE, and PROBA2/LYRA, and radio spectra from e-Callisto and STEREO/SWAVES. We describe SunPy's functionality, provide examples of solar data analysis in SunPy, and show how Python-based solar data-analysis can leverage the many existing tools already available in Python. We discuss the future goals of the project and encourage interested users to become involved in the planning and development of SunPy.",
     "accessed": {
      "day": "12",
      "month": "5",
      "year": "2015"
     },
     "author": [
      {
       "family": "The SunPy Community",
       "given": ""
      },
      {
       "family": "Mumford",
       "given": "Stuart J."
      },
      {
       "family": "Christe",
       "given": "Steven"
      },
      {
       "family": "Pérez-Suárez",
       "given": "David"
      },
      {
       "family": "Ireland",
       "given": "Jack"
      },
      {
       "family": "Shih",
       "given": "Albert Y."
      },
      {
       "family": "Inglis",
       "given": "Andrew R."
      },
      {
       "family": "Liedtke",
       "given": "Simon"
      },
      {
       "family": "Hewett",
       "given": "Russell J."
      },
      {
       "family": "Mayer",
       "given": "Florian"
      },
      {
       "family": "Hughitt",
       "given": "Keith"
      },
      {
       "family": "Freij",
       "given": "Nabil"
      },
      {
       "family": "Meszaros",
       "given": "Tomas"
      },
      {
       "family": "Bennett",
       "given": "Samuel M."
      },
      {
       "family": "Malocha",
       "given": "Michael"
      },
      {
       "family": "Evans",
       "given": "John"
      },
      {
       "family": "Agrawal",
       "given": "Ankit"
      },
      {
       "family": "Leonard",
       "given": "Andrew J."
      },
      {
       "family": "Robitaille",
       "given": "Thomas P."
      },
      {
       "family": "Mampaey",
       "given": "Benjamin"
      },
      {
       "family": "Campos-Rozo",
       "given": "Jose Iván"
      },
      {
       "family": "Kirk",
       "given": "Michael S."
      }
     ],
     "container-title": "arXiv:1505.02563 [astro-ph]",
     "id": "1226750/RZ7PH3U7",
     "issued": {
      "day": "11",
      "month": "5",
      "year": "2015"
     },
     "note": "arXiv: 1505.02563",
     "title": "SunPy - Python for Solar Physics",
     "type": "article-journal"
    },
    "1226750/UCDDSIK9": {
     "DOI": "10.1086/593329",
     "URL": "http://stacks.iop.org/1538-4357/687/i=2/a=L131",
     "accessed": {
      "day": "7",
      "month": "8",
      "year": "2013"
     },
     "author": [
      {
       "family": "Bonet",
       "given": "J. A."
      },
      {
       "family": "Márquez",
       "given": "I."
      },
      {
       "family": "Sánchez Almeida",
       "given": "J."
      },
      {
       "family": "Cabello",
       "given": "I."
      },
      {
       "family": "Domingo",
       "given": "V."
      }
     ],
     "container-title": "The Astrophysical Journal",
     "id": "1226750/UCDDSIK9",
     "issue": "2",
     "issued": {
      "day": "10",
      "month": "11",
      "year": "2008"
     },
     "note": "bibtex: bonet2008",
     "page": "L131-L134",
     "page-first": "L131",
     "title": "Convectively Driven Vortex Flows in the Sun",
     "type": "article-journal",
     "volume": "687"
    },
    "undefined": {
     "DOI": "10.1051/0004-6361:200809800",
     "URL": "http://www.aanda.org/10.1051/0004-6361:200809800",
     "accessed": {
      "day": "7",
      "month": "8",
      "year": "2013"
     },
     "author": [
      {
       "family": "Shelyag",
       "given": "S."
      },
      {
       "family": "Fedun",
       "given": "V."
      },
      {
       "family": "Erdélyi",
       "given": "R."
      }
     ],
     "container-title": "Astronomy and Astrophysics",
     "id": "1226750/9AMFKPUF",
     "issue": "2",
     "issued": {
      "month": "8",
      "year": "2008"
     },
     "note": "bibtex: shelyag2008",
     "page": "655-662",
     "page-first": "655",
     "title": "Magnetohydrodynamic code for gravitationally-stratified media",
     "type": "article-journal",
     "volume": "486"
    }
   }
  },
  "kernelspec": {
   "display_name": "Environment (thesis)",
   "language": "",
   "name": "thesis"
  },
  "language_info": {
   "codemirror_mode": {
    "name": "ipython",
    "version": 2
   },
   "file_extension": ".py",
   "mimetype": "text/x-python",
   "name": "python",
   "nbconvert_exporter": "python",
   "pygments_lexer": "ipython2",
   "version": "2.7.10"
  }
 },
 "nbformat": 4,
 "nbformat_minor": 0
}
